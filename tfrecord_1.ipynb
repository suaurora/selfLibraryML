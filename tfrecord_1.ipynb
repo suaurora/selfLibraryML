{
 "cells": [
  {
   "cell_type": "code",
   "execution_count": 2,
   "metadata": {},
   "outputs": [],
   "source": [
    "import matplotlib\n",
    "import matplotlib.pyplot as plt\n",
    "import tensorflow as tf\n",
    "import tensorflow.keras as keras\n",
    "import sys\n",
    "import os\n",
    "import time\n",
    "import sklearn\n",
    "import numpy as np\n",
    "import pandas as pd\n",
    "\n",
    "%matplotlib inline"
   ]
  },
  {
   "cell_type": "code",
   "execution_count": 6,
   "metadata": {},
   "outputs": [
    {
     "name": "stdout",
     "output_type": "stream",
     "text": [
      "value: \"python\"\n",
      "value: \"deep_learning\"\n",
      "\n",
      "value: 9.0\n",
      "value: 12.5\n",
      "value: 8.0\n",
      "value: 5.5\n",
      "\n",
      "value: 42\n",
      "\n",
      "feature {\n",
      "  key: \"age\"\n",
      "  value {\n",
      "    int64_list {\n",
      "      value: 42\n",
      "    }\n",
      "  }\n",
      "}\n",
      "feature {\n",
      "  key: \"favoriate_books\"\n",
      "  value {\n",
      "    bytes_list {\n",
      "      value: \"python\"\n",
      "      value: \"deep_learning\"\n",
      "    }\n",
      "  }\n",
      "}\n",
      "feature {\n",
      "  key: \"hours\"\n",
      "  value {\n",
      "    float_list {\n",
      "      value: 9.0\n",
      "      value: 12.5\n",
      "      value: 8.0\n",
      "      value: 5.5\n",
      "    }\n",
      "  }\n",
      "}\n",
      "\n"
     ]
    }
   ],
   "source": [
    "#tf_record file format\n",
    "# ->tf.train.Example\n",
    "#  ->tf.train.features ->{\"key\":tf.train.Feature}\n",
    "#    ->tf.train.features ->tf.train.ByteList/FloatList/Int64List\n",
    "\n",
    "favoriate_books = [name.encode(\"utf-8\") \n",
    "                   for name in [\"python\",\"deep_learning\"]]\n",
    "\n",
    "favoriate_books_bytelist = tf.train.BytesList(value = favoriate_books)\n",
    "\n",
    "print(favoriate_books_bytelist)\n",
    "\n",
    "hours_floatList = tf.train.FloatList(value = [9.0,12.5,8.0,5.5])\n",
    "\n",
    "print(hours_floatList)\n",
    "\n",
    "age_int64list = tf.train .Int64List(value = [42])\n",
    "\n",
    "print(age_int64list)\n",
    "\n",
    "features = tf.train.Features(\n",
    "           feature = {\n",
    "               \"favoriate_books\":tf.train.Feature(\n",
    "               bytes_list = favoriate_books_bytelist),\n",
    "               \"hours\":tf.train.Feature(\n",
    "               float_list = hours_floatList),\n",
    "               \"age\":tf.train.Feature(\n",
    "               int64_list = age_int64list),\n",
    "           }\n",
    ")\n",
    "\n",
    "print(features)"
   ]
  },
  {
   "cell_type": "code",
   "execution_count": 7,
   "metadata": {},
   "outputs": [
    {
     "name": "stdout",
     "output_type": "stream",
     "text": [
      "features {\n",
      "  feature {\n",
      "    key: \"age\"\n",
      "    value {\n",
      "      int64_list {\n",
      "        value: 42\n",
      "      }\n",
      "    }\n",
      "  }\n",
      "  feature {\n",
      "    key: \"favoriate_books\"\n",
      "    value {\n",
      "      bytes_list {\n",
      "        value: \"python\"\n",
      "        value: \"deep_learning\"\n",
      "      }\n",
      "    }\n",
      "  }\n",
      "  feature {\n",
      "    key: \"hours\"\n",
      "    value {\n",
      "      float_list {\n",
      "        value: 9.0\n",
      "        value: 12.5\n",
      "        value: 8.0\n",
      "        value: 5.5\n",
      "      }\n",
      "    }\n",
      "  }\n",
      "}\n",
      "\n",
      "b'\\n[\\n\\x1d\\n\\x05hours\\x12\\x14\\x12\\x12\\n\\x10\\x00\\x00\\x10A\\x00\\x00HA\\x00\\x00\\x00A\\x00\\x00\\xb0@\\n,\\n\\x0ffavoriate_books\\x12\\x19\\n\\x17\\n\\x06python\\n\\rdeep_learning\\n\\x0c\\n\\x03age\\x12\\x05\\x1a\\x03\\n\\x01*'\n"
     ]
    }
   ],
   "source": [
    "example = tf.train.Example(features = features)\n",
    "\n",
    "print(example)\n",
    "\n",
    "serialized_example = example.SerializeToString()\n",
    "\n",
    "print(serialized_example)\n"
   ]
  },
  {
   "cell_type": "code",
   "execution_count": 8,
   "metadata": {},
   "outputs": [],
   "source": [
    "output_dir = \"tfrecord_basic\"\n",
    "\n",
    "if not os.path.exists(output_dir):\n",
    "    os.mkdir(output_dir)\n",
    "    \n",
    "filename = \"test.tfrecords\"\n",
    "filename_fullpath = os.path.join(output_dir,filename)\n",
    "\n",
    "with tf.io.TFRecordWriter(filename_fullpath) as writer:\n",
    "    for i in range(3):\n",
    "        writer.write(serialized_example)\n",
    "        "
   ]
  },
  {
   "cell_type": "code",
   "execution_count": 9,
   "metadata": {},
   "outputs": [
    {
     "name": "stdout",
     "output_type": "stream",
     "text": [
      "tf.Tensor(b'\\n[\\n\\x1d\\n\\x05hours\\x12\\x14\\x12\\x12\\n\\x10\\x00\\x00\\x10A\\x00\\x00HA\\x00\\x00\\x00A\\x00\\x00\\xb0@\\n,\\n\\x0ffavoriate_books\\x12\\x19\\n\\x17\\n\\x06python\\n\\rdeep_learning\\n\\x0c\\n\\x03age\\x12\\x05\\x1a\\x03\\n\\x01*', shape=(), dtype=string)\n",
      "tf.Tensor(b'\\n[\\n\\x1d\\n\\x05hours\\x12\\x14\\x12\\x12\\n\\x10\\x00\\x00\\x10A\\x00\\x00HA\\x00\\x00\\x00A\\x00\\x00\\xb0@\\n,\\n\\x0ffavoriate_books\\x12\\x19\\n\\x17\\n\\x06python\\n\\rdeep_learning\\n\\x0c\\n\\x03age\\x12\\x05\\x1a\\x03\\n\\x01*', shape=(), dtype=string)\n",
      "tf.Tensor(b'\\n[\\n\\x1d\\n\\x05hours\\x12\\x14\\x12\\x12\\n\\x10\\x00\\x00\\x10A\\x00\\x00HA\\x00\\x00\\x00A\\x00\\x00\\xb0@\\n,\\n\\x0ffavoriate_books\\x12\\x19\\n\\x17\\n\\x06python\\n\\rdeep_learning\\n\\x0c\\n\\x03age\\x12\\x05\\x1a\\x03\\n\\x01*', shape=(), dtype=string)\n"
     ]
    }
   ],
   "source": [
    "dataset = tf.data.TFRecordDataset([filename_fullpath])\n",
    "\n",
    "for serialized_example_tensor in dataset:\n",
    "    print(serialized_example_tensor)"
   ]
  },
  {
   "cell_type": "code",
   "execution_count": 13,
   "metadata": {},
   "outputs": [
    {
     "name": "stdout",
     "output_type": "stream",
     "text": [
      "{'favoriate_books': <tensorflow.python.framework.sparse_tensor.SparseTensor object at 0x7f8fc86ebbe0>, 'hours': <tensorflow.python.framework.sparse_tensor.SparseTensor object at 0x7f8fc868f1d0>, 'age': <tf.Tensor: id=90, shape=(), dtype=int64, numpy=42>}\n",
      "{'favoriate_books': <tensorflow.python.framework.sparse_tensor.SparseTensor object at 0x7f8ff6201080>, 'hours': <tensorflow.python.framework.sparse_tensor.SparseTensor object at 0x7f8fc86eb358>, 'age': <tf.Tensor: id=99, shape=(), dtype=int64, numpy=42>}\n",
      "{'favoriate_books': <tensorflow.python.framework.sparse_tensor.SparseTensor object at 0x7f8fc868f470>, 'hours': <tensorflow.python.framework.sparse_tensor.SparseTensor object at 0x7f8fc8524320>, 'age': <tf.Tensor: id=108, shape=(), dtype=int64, numpy=42>}\n"
     ]
    }
   ],
   "source": [
    "expect_features = {\n",
    "    \"favoriate_books\":tf.io.VarLenFeature(dtype = tf.string),\n",
    "    \"hours\":tf.io.VarLenFeature(dtype = tf.float32),\n",
    "    \"age\":tf.io.FixedLenFeature([],dtype = tf.int64)\n",
    "}\n",
    "\n",
    "dataset = tf.data.TFRecordDataset([filename_fullpath])\n",
    "for serialized_example_tensor in dataset:\n",
    "    example = tf.io.parse_single_example(\n",
    "        serialized_example_tensor,expect_features\n",
    "    )\n",
    "    print(example)\n",
    "    "
   ]
  },
  {
   "cell_type": "code",
   "execution_count": 14,
   "metadata": {},
   "outputs": [
    {
     "name": "stdout",
     "output_type": "stream",
     "text": [
      "python\n",
      "deep_learning\n",
      "python\n",
      "deep_learning\n",
      "python\n",
      "deep_learning\n"
     ]
    }
   ],
   "source": [
    "expect_features = {\n",
    "    \"favoriate_books\":tf.io.VarLenFeature(dtype = tf.string),\n",
    "    \"hours\":tf.io.VarLenFeature(dtype = tf.float32),\n",
    "    \"age\":tf.io.FixedLenFeature([],dtype = tf.int64)\n",
    "}\n",
    "\n",
    "dataset = tf.data.TFRecordDataset([filename_fullpath])\n",
    "for serialized_example_tensor in dataset:\n",
    "    example = tf.io.parse_single_example(\n",
    "        serialized_example_tensor,expect_features\n",
    "    )\n",
    "    books = tf.sparse.to_dense(example[\"favoriate_books\"],\n",
    "                               default_value = b\"\")\n",
    "    for book in books:\n",
    "        print(book.numpy().decode(\"UTF-8\"))\n",
    "    "
   ]
  },
  {
   "cell_type": "code",
   "execution_count": 15,
   "metadata": {},
   "outputs": [],
   "source": [
    "\n",
    "filename_fullpath_zip = filename_fullpath + \".zip\"\n",
    "\n",
    "options = tf.io.TFRecordOptions(compression_type = \"GZIP\")\n",
    "\n",
    "\n",
    "with tf.io.TFRecordWriter(filename_fullpath_zip,options) as writer:\n",
    "    for i in range(3):\n",
    "        writer.write(serialized_example)\n",
    "        "
   ]
  },
  {
   "cell_type": "code",
   "execution_count": 17,
   "metadata": {},
   "outputs": [
    {
     "name": "stdout",
     "output_type": "stream",
     "text": [
      "python\n",
      "deep_learning\n",
      "python\n",
      "deep_learning\n",
      "python\n",
      "deep_learning\n"
     ]
    }
   ],
   "source": [
    "dataset_zip = tf.data.TFRecordDataset([filename_fullpath_zip],\n",
    "                                  compression_type=\"GZIP\")\n",
    "for serialized_example_tensor in dataset_zip:\n",
    "    example = tf.io.parse_single_example(\n",
    "        serialized_example_tensor,expect_features\n",
    "    )\n",
    "    books = tf.sparse.to_dense(example[\"favoriate_books\"],\n",
    "                               default_value = b\"\")\n",
    "    for book in books:\n",
    "        print(book.numpy().decode(\"UTF-8\"))\n",
    "    "
   ]
  },
  {
   "cell_type": "code",
   "execution_count": 20,
   "metadata": {},
   "outputs": [
    {
     "name": "stdout",
     "output_type": "stream",
     "text": [
      "File `setup_enviroment.py` exists. Overwrite (y/[N])?  y\n",
      "The following commands were written to file `setup_enviroment.py`:\n",
      "import matplotlib\n",
      "import matplotlib.pyplot as plt\n",
      "import tensorflow as tf\n",
      "import tensorflow.keras as keras\n",
      "import sys\n",
      "import os\n",
      "import time\n",
      "import sklearn\n",
      "import numpy as np\n",
      "import pandas as pd\n",
      "\n",
      "get_ipython().run_line_magic('matplotlib', 'inline')\n"
     ]
    }
   ],
   "source": [
    "%save setup_enviroment 2"
   ]
  },
  {
   "cell_type": "code",
   "execution_count": null,
   "metadata": {},
   "outputs": [],
   "source": []
  }
 ],
 "metadata": {
  "kernelspec": {
   "display_name": "Python 3",
   "language": "python",
   "name": "python3"
  },
  "language_info": {
   "codemirror_mode": {
    "name": "ipython",
    "version": 3
   },
   "file_extension": ".py",
   "mimetype": "text/x-python",
   "name": "python",
   "nbconvert_exporter": "python",
   "pygments_lexer": "ipython3",
   "version": "3.7.3"
  }
 },
 "nbformat": 4,
 "nbformat_minor": 2
}
