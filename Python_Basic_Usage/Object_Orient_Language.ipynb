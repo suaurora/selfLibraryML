{
 "cells": [
  {
   "cell_type": "code",
   "execution_count": 2,
   "metadata": {},
   "outputs": [
    {
     "name": "stdout",
     "output_type": "stream",
     "text": [
      "This message is from Constructor Method\n",
      "Receive message using Mobile\n",
      "Send message using Mobile\n"
     ]
    }
   ],
   "source": [
    "class Mobile:\n",
    "    def __init__(self):\n",
    "        print(\"This message is from Constructor Method\")\n",
    "    def receive_message(self):\n",
    "        print(\"Receive message using Mobile\")\n",
    "    def send_message(self):\n",
    "        print(\"Send message using Mobile\")\n",
    "\n",
    "def main():\n",
    "    nokia = Mobile()\n",
    "    nokia.receive_message()\n",
    "    nokia.send_message()\n",
    "\n",
    "if __name__==\"__main__\":\n",
    "    main()"
   ]
  },
  {
   "cell_type": "code",
   "execution_count": 5,
   "metadata": {},
   "outputs": [
    {
     "name": "stdout",
     "output_type": "stream",
     "text": [
      "Receive message using {self.name}\n",
      "Send message using {self.name}\n"
     ]
    }
   ],
   "source": [
    "class Mobile:\n",
    "    def __init__(self,name):\n",
    "        self.name=name\n",
    "    \n",
    "    def receive_message(self):\n",
    "        print(\"Receive message using {self.name}\")\n",
    "    def send_message(self):\n",
    "        print(\"Send message using {self.name}\")\n",
    "\n",
    "def main():\n",
    "    nokia = Mobile(\"Nokia\")\n",
    "    nokia.receive_message()\n",
    "    nokia.send_message()\n",
    "\n",
    "if __name__==\"__main__\":\n",
    "    main()"
   ]
  },
  {
   "cell_type": "code",
   "execution_count": 6,
   "metadata": {},
   "outputs": [
    {
     "name": "stdout",
     "output_type": "stream",
     "text": [
      "Angle is 75\n",
      "Angle is 9\n",
      "Length of an Arc is 11.780972450961725\n"
     ]
    }
   ],
   "source": [
    "import math\n",
    "class ArcLength:\n",
    "    def __init__(self):\n",
    "        self.radius = 0\n",
    "        self.angle = 0\n",
    "    \n",
    "    def calculate_arc_length(self):\n",
    "        result = 2*math.pi*self.radius*self.angle/360\n",
    "        print(f\"Length of an Arc is {result}\")\n",
    "\n",
    "al = ArcLength()\n",
    "al.radius=9\n",
    "al.angle=75\n",
    "\n",
    "print(f\"Angle is {al.angle}\")\n",
    "print(f\"Angle is {al.radius}\")\n",
    "\n",
    "al.calculate_arc_length()\n"
   ]
  },
  {
   "cell_type": "code",
   "execution_count": 9,
   "metadata": {},
   "outputs": [
    {
     "name": "stdout",
     "output_type": "stream",
     "text": [
      "Griffon vulture flies above clouds\n",
      "Common Care flies above clouds\n",
      "Emu is the national bird of Australia\n"
     ]
    }
   ],
   "source": [
    "class Birds:\n",
    "    def __init__(self,bird_name):\n",
    "        self.bird_name=bird_name\n",
    "    def flying_birds(self):\n",
    "        print(f\"{self.bird_name} flies above clouds\")\n",
    "    def non_flying_birds(self):\n",
    "        print(f\"{self.bird_name} is the national bird of Australia\")\n",
    "def main():\n",
    "    vulture=Birds(\"Griffon vulture\")\n",
    "    crane = Birds(\"Common Care\")\n",
    "    emu = Birds(\"Emu\")\n",
    "    vulture.flying_birds()\n",
    "    crane.flying_birds()\n",
    "    emu.non_flying_birds()\n",
    "\n",
    "if __name__==\"__main__\":\n",
    "    main()"
   ]
  },
  {
   "cell_type": "code",
   "execution_count": 20,
   "metadata": {},
   "outputs": [
    {
     "name": "stdout",
     "output_type": "stream",
     "text": [
      "Olivia has deposited an amount of 10000.0 dollars\n",
      "Olivia has a balance of 10000.0 dollars\n",
      "Olivia has withdraw an amount of 8000.0 dollaors\n",
      "Olivia has a balance of 8000.0 dollars\n"
     ]
    }
   ],
   "source": [
    "class BankAccount:\n",
    "    def __init__(self,user_name):\n",
    "        self.user_name=user_name\n",
    "        self.balance=0.0\n",
    "    def show_balance(self):\n",
    "        print(f\"{self.user_name} has a balance of {self.balance} dollars\")\n",
    "    def withdraw_money(self,amount):\n",
    "        if amount>self.balance:\n",
    "            print(\"You don't have sufficient funds in your account\")\n",
    "        else:\n",
    "            self.balance-=amount\n",
    "            print(f\"{self.user_name} has withdraw an amount of {self.balance} dollaors\")\n",
    "    def deposit_money(self,amount):\n",
    "        self.balance+=amount\n",
    "        print(f\"{self.user_name} has deposited an amount of {self.balance} dollars\")\n",
    "\n",
    "def main():\n",
    "    savings_account=BankAccount(\"Olivia\")\n",
    "    savings_account.deposit_money(10000)\n",
    "    savings_account.show_balance()\n",
    "    savings_account.withdraw_money(2000)\n",
    "    savings_account.show_balance()\n",
    "if __name__==\"__main__\":\n",
    "    main()"
   ]
  },
  {
   "cell_type": "code",
   "execution_count": null,
   "metadata": {},
   "outputs": [],
   "source": []
  },
  {
   "cell_type": "code",
   "execution_count": null,
   "metadata": {},
   "outputs": [],
   "source": []
  }
 ],
 "metadata": {
  "kernelspec": {
   "display_name": "Python 3",
   "language": "python",
   "name": "python3"
  },
  "language_info": {
   "codemirror_mode": {
    "name": "ipython",
    "version": 3
   },
   "file_extension": ".py",
   "mimetype": "text/x-python",
   "name": "python",
   "nbconvert_exporter": "python",
   "pygments_lexer": "ipython3",
   "version": "3.7.3"
  }
 },
 "nbformat": 4,
 "nbformat_minor": 2
}
