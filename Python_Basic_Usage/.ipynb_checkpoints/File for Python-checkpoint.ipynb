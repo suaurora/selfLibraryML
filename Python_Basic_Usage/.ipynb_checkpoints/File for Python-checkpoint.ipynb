{
 "cells": [
  {
   "cell_type": "markdown",
   "metadata": {},
   "source": [
    "# File in Python\n",
    "\n",
    "Mode | Description\n",
    "-----|--------------\n",
    "\"r\" | open the file in read only mode and this is default mode\n",
    "\"w\" | If a file already exists,then it get override,If not create one\n",
    "\"a\" | open file for appending data at the end of file automatically.If the file does not exit then create one\n",
    "\"r+\"| opens file for both reading and writing\n",
    "\"w+\"| opens file for both writing and reading,If the file not exist create one,If exist overwrite it\n",
    "\"a+\"| opens a file for reading and appending,If ...\n",
    "\"x\" | crate a new file,if the file already exist,the operation fails\n",
    "\"rb\"| opens the binary file in read-only mode\n",
    "\"wb\"| opens the file for writing the data in binary format\n",
    "\"rb+\"| opens the file for both reading and writing in binary format\n"
   ]
  },
  {
   "cell_type": "code",
   "execution_count": 4,
   "metadata": {},
   "outputs": [
    {
     "name": "stdout",
     "output_type": "stream",
     "text": [
      "<class '_io.TextIOWrapper'>\n"
     ]
    }
   ],
   "source": [
    "#file_handler=open(\"example_1.txt\",\"x\")\n",
    "file_handler=open(\"example_1.txt\",\"r\")\n",
    "print(type(file_handler))\n"
   ]
  },
  {
   "cell_type": "code",
   "execution_count": null,
   "metadata": {},
   "outputs": [],
   "source": [
    "try:\n",
    "    file_handler=open(\"moon.txt\",\"w\")\n",
    "    try:\n",
    "        file_handler.write(\"Hello World.\\n\")\n",
    "        file_handler.write(\"This is a huge world,and I will explore it oneday.\\n\")\n",
    "    finally:\n",
    "        file_handler.close()#This 'finally' will run finally?\n",
    "except IOError:\n",
    "    print(\"Oops!\")"
   ]
  },
  {
   "cell_type": "code",
   "execution_count": null,
   "metadata": {},
   "outputs": [],
   "source": [
    "def read_file():\n",
    "    file_handler=open(\"moon.txt\")\n",
    "    print(\"Print each line in the text file\")\n",
    "    for each_line in file_handler:\n",
    "        print(f\"{each_line}\")o\n",
    "    file_handler.close()"
   ]
  },
  {
   "cell_type": "code",
   "execution_count": 5,
   "metadata": {},
   "outputs": [
    {
     "name": "stdout",
     "output_type": "stream",
     "text": [
      "Print each line in the text file\n",
      "Hello World.\n",
      " This is a huge world,and I will explore it oneday.\n",
      " "
     ]
    }
   ],
   "source": [
    "#This method will be closed the file automatically \n",
    "def read_file():\n",
    "    print(\"Print each line in the text file\")\n",
    "    with open(\"moon.txt\") as file_handler:\n",
    "        for each_line in file_handler:\n",
    "            print(each_line,end=\" \")\n",
    "read_file()"
   ]
  },
  {
   "cell_type": "markdown",
   "metadata": {},
   "source": [
    "## File Object Attributes\n",
    "\n",
    "attributes | description\n",
    "--------------|----------\n",
    "file_handler.closed | It returns a Boolean True if the file is closed or False otherwise\n",
    "file_handler.mode | It returns the access mode with which the file was oepned\n",
    "file_handler.name | It returns the nameof the file"
   ]
  },
  {
   "cell_type": "code",
   "execution_count": 12,
   "metadata": {},
   "outputs": [
    {
     "name": "stdout",
     "output_type": "stream",
     "text": [
      "File name is computere.txt\n",
      "File closed: False\n",
      "File Opening Mode is r\n"
     ]
    }
   ],
   "source": [
    "#file_handler=open(\"computere.txt\",\"x\")\n",
    "file_handler=open(\"computere.txt\")\n",
    "print(f\"File name is {file_handler.name}\")\n",
    "print(f\"File closed: {file_handler.closed}\")\n",
    "print(f\"File Opening Mode is {file_handler.mode}\")\n",
    "file_handler.close()"
   ]
  },
  {
   "cell_type": "markdown",
   "metadata": {},
   "source": [
    "### When  you use the open() function a file object is created.Here is the list of methods that can e called on this object.\n",
    "\n",
    "method | syntax | description\n",
    "-------|--------|------------\n",
    "read() | file_handler.read([size]) | This method is used to read the contents of a file up to a size and return a string.The argument is optional,and,if it not specified,then the entire contents of the file will be read and returned.\n",
    "readline() | file_handler.readline() | This method is used to read single line in file.\n",
    "readlines() | file_handler.readlines() | This method is used to read all lines of a file as list item.\n",
    "write() | file_handler.write(string) | This method will write the contents of the string to the file,returning the number of characters written.If you want to start a new line,you must include the new line character.\n",
    "writelines() | file_handler.writelines(sequence) | This method will write a sequence of string to the file.\n",
    "tell() | file_handler.tell() | This method returns a integer giving the file handler's current position within the file,measured in bytes from begining of the file.\n",
    "seek() | file_handler.seek(offset,from_what) | This method is used to change the file handler's position.The position is computed from adding offset to a reference point.The reference point is selected by the _from_what_ argument.A from_what value of 0 measures from the begining of the file,1 used the current position,and 2 uses the end of file as the reference point.If the _from_what_ argument is ommited,then a default value of 0 is used,indicating that begining of the file itself is the reference point."
   ]
  },
  {
   "cell_type": "code",
   "execution_count": 4,
   "metadata": {},
   "outputs": [
    {
     "name": "stdout",
     "output_type": "stream",
     "text": [
      "27\n",
      "\n",
      " \"Wha aer you\" mean\n"
     ]
    }
   ],
   "source": [
    "file_handler=open(\"moon.txt\",\"a+\")\n",
    "a=file_handler.write(\"\\n \\\"Wha aer you\\\" means what?\")\n",
    "print(a)\n",
    "print(file_handler.read(20))\n",
    "file_handler.close()"
   ]
  },
  {
   "cell_type": "code",
   "execution_count": 6,
   "metadata": {},
   "outputs": [
    {
     "name": "stdout",
     "output_type": "stream",
     "text": [
      "Hello World.\n",
      "\n"
     ]
    }
   ],
   "source": [
    "with open(\"moon.txt\",\"r\") as file_handler:\n",
    "    print(file_handler.readline())"
   ]
  },
  {
   "cell_type": "code",
   "execution_count": 7,
   "metadata": {},
   "outputs": [
    {
     "name": "stdout",
     "output_type": "stream",
     "text": [
      "['Hello World.\\n', 'This is a huge world,and I will explore it oneday.\\n', '\\n', ' \"Wha aer you\" means what?\\n', ' \"Wha aer you\" means what?\\n', ' \"Wha aer you\" means what?\\n', ' \"Wha aer you\" means what?']\n"
     ]
    }
   ],
   "source": [
    "with open(\"moon.txt\",\"r\") as file_handler:\n",
    "    print(file_handler.readlines())"
   ]
  },
  {
   "cell_type": "code",
   "execution_count": 8,
   "metadata": {},
   "outputs": [
    {
     "name": "stdout",
     "output_type": "stream",
     "text": [
      "Hello World.\n",
      "This is a huge world,and I will explore it oneday.\n",
      "\n",
      " \"Wha aer you\" means what?\n",
      " \"Wha aer you\" means what?\n",
      " \"Wha aer you\" means what?\n",
      " \"Wha aer you\" means what?\n"
     ]
    }
   ],
   "source": [
    "with open(\"moon.txt\",\"r\") as file_handler:\n",
    "    print(file_handler.read())"
   ]
  },
  {
   "cell_type": "code",
   "execution_count": 12,
   "metadata": {},
   "outputs": [
    {
     "name": "stdout",
     "output_type": "stream",
     "text": [
      "\n"
     ]
    }
   ],
   "source": [
    "with open(\"example.txt\",\"a+\") as file_handler:\n",
    "    file_handler.writelines([\"This is a huge world and i will explore it oneday.\",\"\\n\",\"That is amazing.\"])\n",
    "    print(file_handler.read())#This is so embassed"
   ]
  },
  {
   "cell_type": "code",
   "execution_count": 14,
   "metadata": {},
   "outputs": [
    {
     "name": "stdout",
     "output_type": "stream",
     "text": [
      "l explore it oneday.\n",
      "That is amazing.This is a huge world and i will explore it oneday.\n",
      "That is amazing.This is a huge world and i will explore it oneday.\n",
      "That is amazing.This is a huge world and i will explore it oneday.\n",
      "That is amazing.\n"
     ]
    }
   ],
   "source": [
    "with open(\"example.txt\",\"r\") as file_handler:\n",
    "    file_handler.seek(30)\n",
    "    print(file_handler.read())"
   ]
  },
  {
   "cell_type": "code",
   "execution_count": 17,
   "metadata": {},
   "outputs": [
    {
     "name": "stdout",
     "output_type": "stream",
     "text": [
      "b'rld,and I will explore it oneday.\\n\\n \"Wha aer you\" means what?\\n \"Wha aer you\" means what?\\n \"Wha aer you\" means what?\\n \"Wha aer you\" means what?'\n"
     ]
    }
   ],
   "source": [
    "with open(\"moon.txt\",\"rb+\") as file_handler:\n",
    "    file_handler.seek(10)\n",
    "    file_handler.seek(20,1)\n",
    "    print(file_handler.read())"
   ]
  },
  {
   "cell_type": "code",
   "execution_count": 18,
   "metadata": {},
   "outputs": [
    {
     "name": "stdout",
     "output_type": "stream",
     "text": [
      "0\n"
     ]
    }
   ],
   "source": [
    "with open(\"moon.txt\") as file_handler:\n",
    "    print(file_handler.tell())"
   ]
  },
  {
   "cell_type": "code",
   "execution_count": 23,
   "metadata": {},
   "outputs": [
    {
     "name": "stdout",
     "output_type": "stream",
     "text": [
      "olleH .dlroW\n",
      "sihT si a eguh dna,dlrow I lliw erolpxe ti .yadeno\n",
      "\n",
      " ahW\" rea \"uoy snaem ?tahw\n",
      " ahW\" rea \"uoy snaem ?tahw\n",
      " ahW\" rea \"uoy snaem ?tahw\n",
      " ahW\" rea \"uoy snaem ?tahw\n"
     ]
    }
   ],
   "source": [
    "revered_word_list=[]\n",
    "with open(\"moon.txt\") as file_handler:\n",
    "    for each_row in file_handler:\n",
    "        word_list=each_row.rstrip().split(\" \")\n",
    "        for each_word in word_list:\n",
    "            revered_word_list.append(each_word[::-1])\n",
    "        print(\" \".join(revered_word_list))\n",
    "        revered_word_list.clear()"
   ]
  },
  {
   "cell_type": "code",
   "execution_count": 26,
   "metadata": {},
   "outputs": [
    {
     "name": "stdout",
     "output_type": "stream",
     "text": [
      "The number of times each word appears in a sentence is \n",
      "{'Hello': 1, 'World.': 1, 'This': 1, 'is': 1, 'a': 1, 'huge': 1, 'world,and': 1, 'I': 1, 'will': 1, 'explore': 1, 'it': 1, 'oneday.': 1, '\"Wha': 4, 'aer': 4, 'you\"': 4, 'means': 4, 'what?': 4}\n",
      "Total number of words in the file are 32\n"
     ]
    }
   ],
   "source": [
    "occurrence_of_words=dict()\n",
    "total_words=0\n",
    "with open(\"moon.txt\") as file_handler:\n",
    "    for each_row in file_handler:\n",
    "        words=each_row.rstrip().split()\n",
    "        total_words+=len(words)\n",
    "        for each_word in words:\n",
    "            occurrence_of_words[each_word]=occurrence_of_words.get(each_word,0)+1\n",
    "    print(\"The number of times each word appears in a sentence is \")\n",
    "    print(occurrence_of_words)\n",
    "    print(f\"Total number of words in the file are {total_words}\")"
   ]
  },
  {
   "cell_type": "code",
   "execution_count": 28,
   "metadata": {},
   "outputs": [
    {
     "name": "stdout",
     "output_type": "stream",
     "text": [
      "The longest word in file is : world,and\n"
     ]
    }
   ],
   "source": [
    "def read_file(file_name):\n",
    "    with open(file_name) as file_handler:\n",
    "        longest_word=\"\"\n",
    "        for each_row in file_handler:\n",
    "            words=each_row.rstrip().split()\n",
    "            for each_word in words:\n",
    "                if len(each_word)>len(longest_word):\n",
    "                    longest_word=each_word\n",
    "    print(f\"The longest word in file is : {longest_word}\")\n",
    "read_file(\"moon.txt\")"
   ]
  },
  {
   "cell_type": "code",
   "execution_count": null,
   "metadata": {},
   "outputs": [],
   "source": []
  }
 ],
 "metadata": {
  "kernelspec": {
   "display_name": "Python 3",
   "language": "python",
   "name": "python3"
  },
  "language_info": {
   "codemirror_mode": {
    "name": "ipython",
    "version": 3
   },
   "file_extension": ".py",
   "mimetype": "text/x-python",
   "name": "python",
   "nbconvert_exporter": "python",
   "pygments_lexer": "ipython3",
   "version": "3.7.3"
  }
 },
 "nbformat": 4,
 "nbformat_minor": 2
}
