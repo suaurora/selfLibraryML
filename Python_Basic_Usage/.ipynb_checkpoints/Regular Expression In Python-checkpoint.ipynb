{
 "cells": [
  {
   "cell_type": "code",
   "execution_count": 3,
   "metadata": {},
   "outputs": [
    {
     "name": "stdout",
     "output_type": "stream",
     "text": [
      "re.compile('(e)g')\n",
      "<re.Match object; span=(0, 2), match='eg'>\n",
      "eg\n"
     ]
    }
   ],
   "source": [
    "import re\n",
    "pattern=re.compile(r'(e)g')\n",
    "print(pattern)\n",
    "match_obj=pattern.match(\"egg is nutritional food\")\n",
    "print(match_obj)\n",
    "print(match_obj.group())"
   ]
  },
  {
   "cell_type": "code",
   "execution_count": 4,
   "metadata": {},
   "outputs": [
    {
     "name": "stdout",
     "output_type": "stream",
     "text": [
      "eg\n"
     ]
    }
   ],
   "source": [
    "print(match_obj.group(0))"
   ]
  },
  {
   "cell_type": "code",
   "execution_count": 7,
   "metadata": {},
   "outputs": [
    {
     "ename": "AttributeError",
     "evalue": "'NoneType' object has no attribute 'group'",
     "output_type": "error",
     "traceback": [
      "\u001b[0;31m---------------------------------------------------------------------------\u001b[0m",
      "\u001b[0;31mAttributeError\u001b[0m                            Traceback (most recent call last)",
      "\u001b[0;32m<ipython-input-7-4ba7ecc919a7>\u001b[0m in \u001b[0;36m<module>\u001b[0;34m\u001b[0m\n\u001b[1;32m      1\u001b[0m \u001b[0mmatch_object\u001b[0m\u001b[0;34m=\u001b[0m\u001b[0mpattern\u001b[0m\u001b[0;34m.\u001b[0m\u001b[0mmatch\u001b[0m\u001b[0;34m(\u001b[0m\u001b[0;34m\"brownegg is nutritional food\"\u001b[0m\u001b[0;34m)\u001b[0m\u001b[0;34m\u001b[0m\u001b[0;34m\u001b[0m\u001b[0m\n\u001b[0;32m----> 2\u001b[0;31m \u001b[0mprint\u001b[0m\u001b[0;34m(\u001b[0m\u001b[0mmatch_object\u001b[0m\u001b[0;34m.\u001b[0m\u001b[0mgroup\u001b[0m\u001b[0;34m(\u001b[0m\u001b[0;34m)\u001b[0m\u001b[0;34m)\u001b[0m\u001b[0;34m\u001b[0m\u001b[0;34m\u001b[0m\u001b[0m\n\u001b[0m\u001b[1;32m      3\u001b[0m \u001b[0;34m\u001b[0m\u001b[0m\n\u001b[1;32m      4\u001b[0m \u001b[0;31m# regular_expression method match can only match at the beginning of the sentence.\u001b[0m\u001b[0;34m\u001b[0m\u001b[0;34m\u001b[0m\u001b[0;34m\u001b[0m\u001b[0m\n",
      "\u001b[0;31mAttributeError\u001b[0m: 'NoneType' object has no attribute 'group'"
     ]
    }
   ],
   "source": [
    "match_object=pattern.match(\"brownegg is nutritional food\")\n",
    "print(match_object.group())\n",
    "\n",
    "# regular_expression method match can only match at the beginning of the sentence."
   ]
  },
  {
   "cell_type": "code",
   "execution_count": 8,
   "metadata": {},
   "outputs": [
    {
     "name": "stdout",
     "output_type": "stream",
     "text": [
      "(0, 14)\n",
      "\n",
      "\n",
      "**************************************************\n",
      "0\n",
      "\n",
      "\n",
      "**************************************************\n",
      "14\n"
     ]
    }
   ],
   "source": [
    "import re\n",
    "pattern_1=re.compile(r'(ab)*')\n",
    "match_obj_1=pattern_1.match(\"ababababababab\")\n",
    "print(match_obj_1.span())\n",
    "print(\"\\n\")\n",
    "print(\"*\"*50)\n",
    "print(match_obj_1.start())\n",
    "print(\"\\n\")\n",
    "print(\"*\"*50)\n",
    "print(match_obj_1.end())"
   ]
  },
  {
   "cell_type": "code",
   "execution_count": 9,
   "metadata": {},
   "outputs": [
    {
     "name": "stdout",
     "output_type": "stream",
     "text": [
      "abcd\n",
      "**************************************************\n",
      "abc\n",
      "**************************************************\n",
      "b\n",
      "**************************************************\n",
      "('abc', 'b')\n"
     ]
    }
   ],
   "source": [
    "import re\n",
    "\n",
    "pattern_2=re.compile(r'(a(b)c)d')\n",
    "match_obj_2=pattern_2.match(\"abcd\")\n",
    "\n",
    "print(match_obj_2.group(0))\n",
    "print(\"*\"*50)\n",
    "print(match_obj_2.group(1))\n",
    "print(\"*\"*50)\n",
    "print(match_obj_2.group(2))\n",
    "print(\"*\"*50)\n",
    "print(match_obj_2.groups())"
   ]
  },
  {
   "cell_type": "code",
   "execution_count": 10,
   "metadata": {},
   "outputs": [
    {
     "name": "stdout",
     "output_type": "stream",
     "text": [
      "['100000', '5000']\n"
     ]
    }
   ],
   "source": [
    "import re \n",
    "pattern_obj_3=re.compile(r\"\\d+\")\n",
    "match_list=pattern_obj_3.findall(\"\"\"\n",
    "Everybody think they're famous when they get 100000 follows on Instargam and 5000 on Twitter\n",
    "\"\"\")\n",
    "print(match_list)\n"
   ]
  },
  {
   "cell_type": "code",
   "execution_count": 2,
   "metadata": {},
   "outputs": [
    {
     "name": "stdout",
     "output_type": "stream",
     "text": [
      "[('bill_gates', 'microsoft.com'), ('steve.jobs', 'apple.com')]\n",
      "User name is bill_gates\n",
      "Domain name is microsoft.com\n",
      "User name is steve.jobs\n",
      "Domain name is apple.com\n"
     ]
    }
   ],
   "source": [
    "import re\n",
    "\n",
    "pattern = re.compile(r'([\\w\\.]+)@([\\w\\.]+)')\n",
    "matched_email_tuples=pattern.findall(\"bill_gates@microsoft.com and steve.jobs@apple.com are visionaries\")\n",
    "\n",
    "print(matched_email_tuples)\n",
    "\n",
    "for each_mail in matched_email_tuples:\n",
    "    print(f\"User name is {each_mail[0]}\")\n",
    "    print(f\"Domain name is {each_mail[1]}\")"
   ]
  },
  {
   "cell_type": "code",
   "execution_count": 2,
   "metadata": {},
   "outputs": [
    {
     "name": "stdout",
     "output_type": "stream",
     "text": [
      "Thompson Ken\n"
     ]
    }
   ],
   "source": [
    "import re \n",
    "pattern = re.compile(r'(\\w+)\\s(\\w+)')\n",
    "replaced_string = pattern.sub(r'\\2 \\1',\"Ken Thompson\")\n",
    "print(replaced_string)\n",
    "\n",
    "#The sub method is used to switch the word in the string,where \\1 is replace/d by a matched substring of the first group"
   ]
  },
  {
   "cell_type": "code",
   "execution_count": 3,
   "metadata": {},
   "outputs": [
    {
     "name": "stdout",
     "output_type": "stream",
     "text": [
      "This$is$a$test\n"
     ]
    }
   ],
   "source": [
    "import re \n",
    "\n",
    "pattern = re.compile(r',')\n",
    "replaced_string = pattern.sub('$',\"This,is,a,test\")\n",
    "print(replaced_string)"
   ]
  },
  {
   "cell_type": "code",
   "execution_count": 5,
   "metadata": {},
   "outputs": [
    {
     "name": "stdout",
     "output_type": "stream",
     "text": [
      "Matched string is tree:oak\n"
     ]
    }
   ],
   "source": [
    "import re \n",
    "\n",
    "pattern = re.compile(r'tree:\\w\\w\\w')\n",
    "match_object = pattern.search(\"Example for tree:oak\")\n",
    "\n",
    "if match_object:\n",
    "    print(f\"Matched string is {match_object.group()}\")\n",
    "else:\n",
    "    print(\"Match is not found\")\n",
    "    "
   ]
  },
  {
   "cell_type": "code",
   "execution_count": 7,
   "metadata": {},
   "outputs": [
    {
     "name": "stdout",
     "output_type": "stream",
     "text": [
      "Names having phone numbers with 3 digits area code\n",
      "Emily\n",
      "Anna\n"
     ]
    }
   ],
   "source": [
    "import re\n",
    "\n",
    "def main():\n",
    "    pattern = re.compile(r\"(\\w+)\\s+\\d{3}-\\d{8}\")\n",
    "    with open(\"example.txt\",\"r\") as file_handler:\n",
    "        print(\"Names having phone numbers with 3 digits area code\")\n",
    "        for each_line in file_handler:\n",
    "            match_object=pattern.search(each_line)\n",
    "            if match_object:\n",
    "                print(match_object.group(1))\n",
    "if __name__ == \"__main__\":\n",
    "    main()\n"
   ]
  },
  {
   "cell_type": "code",
   "execution_count": 9,
   "metadata": {},
   "outputs": [
    {
     "name": "stdout",
     "output_type": "stream",
     "text": [
      "Enter a passwordbm1c6@\n",
      "Invalid password. No upper case letters\n"
     ]
    }
   ],
   "source": [
    "import re \n",
    "\n",
    "def main():\n",
    "    lower_case_pattern = re.compile(r'[a-z]')\n",
    "    upper_case_pattern = re.compile(r'[A-Z]')\n",
    "    number_pattern = re.compile(r'\\d')\n",
    "    special_character_pattern = re.compile(r'[@#$]')\n",
    "    \n",
    "    password = input(\"Enter a password\")\n",
    "    \n",
    "    if len(password)<6 or len(password)>12:\n",
    "        print(\"Invalid password. Length not matched\")\n",
    "    elif not lower_case_pattern.search(password):\n",
    "        print(\"Invalid password. No lower case letters\")\n",
    "    elif not upper_case_pattern.search(password):\n",
    "        print(\"Invalid password. No upper case letters\")\n",
    "    elif not number_pattern.search(password):\n",
    "        print(\"Invalid password. No numbers\")\n",
    "    elif not speacial_character_pattern.search(password):\n",
    "        print(\"Invalid password. No speacial character letter\")\n",
    "    else:\n",
    "        print(\"valid password\")\n",
    "if __name__ == \"__main__\":\n",
    "    main()"
   ]
  },
  {
   "cell_type": "code",
   "execution_count": 4,
   "metadata": {},
   "outputs": [
    {
     "name": "stdout",
     "output_type": "stream",
     "text": [
      "Expected Social Security is 916-302019\n"
     ]
    }
   ],
   "source": [
    "import re\n",
    "def main():\n",
    "    pattern=re.compile(r'\\b\\d{3}-?\\d{2}-?\\d{4}\\b')\n",
    "    match_object=pattern.search(\"Social Security Number for James is 916-302019\")\n",
    "    if match_object:\n",
    "        print(f\"Expected Social Security is {match_object.group()}\")\n",
    "    else:\n",
    "        print(\"No match\")\n",
    "\n",
    "if __name__==\"__main__\":\n",
    "    main()"
   ]
  },
  {
   "cell_type": "code",
   "execution_count": 8,
   "metadata": {},
   "outputs": [
    {
     "name": "stdout",
     "output_type": "stream",
     "text": [
      "Laugh\n",
      "Laugh\n"
     ]
    }
   ],
   "source": [
    "import re \n",
    "\n",
    "pattern = re.compile(r\"(?P<word>\\b\\w+\\b)\")\n",
    "match_object = pattern.search(\"Laugh out loud\")\n",
    "print(match_object.group('word'))\n",
    "print(match_object.group(1))"
   ]
  },
  {
   "cell_type": "code",
   "execution_count": 17,
   "metadata": {},
   "outputs": [
    {
     "name": "stdout",
     "output_type": "stream",
     "text": [
      "Enter the dirctory path/home/aurora/Desktop/Learning/LearnPython/Python_Basic_Usage\n",
      "File extension changed from .txt to .csv\n"
     ]
    }
   ],
   "source": [
    "import os\n",
    "import glob\n",
    "\n",
    "def rename_file_recursively(directory_path):\n",
    "    print(\"File extension changed from .txt to .csv\")\n",
    "    for file_path in glob.glob(directory_path+'\\**\\*.txt',recursive=True):\n",
    "        print(f\"File with .txt extension {file_path} changed to \",end=\" \")\n",
    "        try:\n",
    "            pre,ext=os.path.splitext(file_path)\n",
    "            print(f\"File with .csv extension {pre+'.csv'}\")\n",
    "            os.rename(file_path,pre+'.csv')\n",
    "        except Exception as e:\n",
    "            print(e)\n",
    "def main():\n",
    "    directory_path = input(\"Enter the dirctory path\")\n",
    "    rename_file_recursively(directory_path)\n",
    "if __name__==\"__main__\":\n",
    "    main()"
   ]
  },
  {
   "cell_type": "code",
   "execution_count": null,
   "metadata": {},
   "outputs": [],
   "source": []
  }
 ],
 "metadata": {
  "kernelspec": {
   "display_name": "Python 3",
   "language": "python",
   "name": "python3"
  },
  "language_info": {
   "codemirror_mode": {
    "name": "ipython",
    "version": 3
   },
   "file_extension": ".py",
   "mimetype": "text/x-python",
   "name": "python",
   "nbconvert_exporter": "python",
   "pygments_lexer": "ipython3",
   "version": "3.7.3"
  }
 },
 "nbformat": 4,
 "nbformat_minor": 2
}
