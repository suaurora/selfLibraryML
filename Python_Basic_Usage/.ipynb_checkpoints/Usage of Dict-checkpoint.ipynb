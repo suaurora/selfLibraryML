{
 "cells": [
  {
   "cell_type": "code",
   "execution_count": 11,
   "metadata": {},
   "outputs": [
    {
     "name": "stdout",
     "output_type": "stream",
     "text": [
      "{'washington': 1732, 'jefferson': 1751, 'lincoln': 1809, 'roosevelt': 1858, 'eisenhower': 1890}\n",
      "5\n",
      "True\n",
      "False\n",
      "True\n",
      "True\n",
      "['eisenhower', 'jefferson', 'lincoln', 'roosevelt', 'washington']\n",
      "[1732, 1751, 1809, 1858, 1890]\n",
      "['washington', 'roosevelt', 'lincoln', 'jefferson', 'eisenhower']\n",
      "[('eisenhower', 1890), ('jefferson', 1751), ('lincoln', 1809), ('roosevelt', 1858), ('washington', 1732)]\n"
     ]
    }
   ],
   "source": [
    "presidents={\"washington\":1732,\"jefferson\":1751,\"lincoln\":1809,\"roosevelt\":1858,\"eisenhower\":1890}\n",
    "all_dict_test={True:88,False:78}\n",
    "print(presidents)\n",
    "print(len(presidents))\n",
    "print(all(presidents))#must be all the key value is true\n",
    "print(all(all_dict_test))\n",
    "print(any(presidents))\n",
    "print(any(all_dict_test))\n",
    "print(sorted(presidents))\n",
    "print(sorted(presidents.values()))\n",
    "print(sorted(presidents,reverse=True))\n",
    "print(sorted(presidents.items()))"
   ]
  },
  {
   "cell_type": "code",
   "execution_count": 12,
   "metadata": {},
   "outputs": [
    {
     "data": {
      "text/plain": [
       "['__class__',\n",
       " '__contains__',\n",
       " '__delattr__',\n",
       " '__delitem__',\n",
       " '__dir__',\n",
       " '__doc__',\n",
       " '__eq__',\n",
       " '__format__',\n",
       " '__ge__',\n",
       " '__getattribute__',\n",
       " '__getitem__',\n",
       " '__gt__',\n",
       " '__hash__',\n",
       " '__init__',\n",
       " '__init_subclass__',\n",
       " '__iter__',\n",
       " '__le__',\n",
       " '__len__',\n",
       " '__lt__',\n",
       " '__ne__',\n",
       " '__new__',\n",
       " '__reduce__',\n",
       " '__reduce_ex__',\n",
       " '__repr__',\n",
       " '__setattr__',\n",
       " '__setitem__',\n",
       " '__sizeof__',\n",
       " '__str__',\n",
       " '__subclasshook__',\n",
       " 'clear',\n",
       " 'copy',\n",
       " 'fromkeys',\n",
       " 'get',\n",
       " 'items',\n",
       " 'keys',\n",
       " 'pop',\n",
       " 'popitem',\n",
       " 'setdefault',\n",
       " 'update',\n",
       " 'values']"
      ]
     },
     "execution_count": 12,
     "metadata": {},
     "output_type": "execute_result"
    }
   ],
   "source": [
    "dir(dict)"
   ]
  },
  {
   "cell_type": "code",
   "execution_count": 37,
   "metadata": {},
   "outputs": [
    {
     "name": "stdout",
     "output_type": "stream",
     "text": [
      "{'avatar': None, 'titanic': None, 'starwars': None, 'harrypotter': None, 'avenger': None}\n",
      "{'avatar': 'billion_dollar', 'titanic': 'billion_dollar', 'starwars': 'billion_dollar', 'harrypotter': 'billion_dollar', 'avenger': 'billion_dollar'}\n",
      "None\n",
      "2013\n",
      "2009\n",
      "dict_keys(['avatar', 'titanic', 'starwars', 'harrypotter', 'avenger'])\n",
      "dict_values([2009, 1997, 2015, 2011, 2012])\n",
      "dict_items([('avatar', 2009), ('titanic', 1997), ('starwars', 2015), ('harrypotter', 2011), ('avenger', 2012)])\n",
      "{'avatar': 2009, 'titanic': 1997, 'starwars': 2015, 'harrypotter': 2011, 'avenger': 2012, 'frozen': 2013}\n",
      "{'avatar': 2009, 'titanic': 1997, 'starwars': 2015, 'harrypotter': 2011, 'avenger': 2012, 'frozen': 2013, 'minions': None}\n",
      "{'avatar': 2009, 'titanic': 1997, 'starwars': 2015, 'harrypotter': 2011, 'avenger': 2012, 'frozen': 2013, 'minions': None, 'ironman': 2013}\n",
      "2009\n",
      "{'titanic': 1997, 'starwars': 2015, 'harrypotter': 2011, 'avenger': 2012, 'frozen': 2013, 'minions': None, 'ironman': 2013}\n",
      "('ironman', 2013)\n",
      "{'titanic': 1997, 'starwars': 2015, 'harrypotter': 2011, 'avenger': 2012, 'frozen': 2013, 'minions': None}\n",
      "None\n"
     ]
    }
   ],
   "source": [
    "box_office_billion={\"avatar\":2009,\"titanic\":1997,\"starwars\":2015,\"harrypotter\":2011,\"avenger\":2012}\n",
    "print(box_office_billion.fromkeys(box_office_billion))\n",
    "print(box_office_billion.fromkeys(box_office_billion,\"billion_dollar\"))\n",
    "print(box_office_billion.get(\"frozen\"))#return the value which paired with specified key.\n",
    "print(box_office_billion.get(\"frozen\",2013))\n",
    "#If not in dict return the default value 2013 and if it's not specified the return None.\n",
    "print(box_office_billion.get(\"avatar\",2019))\n",
    "print(box_office_billion.keys())\n",
    "#print(list(box_office_billion.keys()))\n",
    "print(box_office_billion.values())\n",
    "print(box_office_billion.items())\n",
    "box_office_billion.update({\"frozen\":2013})\n",
    "print(box_office_billion)\n",
    "box_office_billion.setdefault(\"minions\")\n",
    "print(box_office_billion)\n",
    "box_office_billion.setdefault(\"ironman\",2013)#return default value 2013,if it not present in dict\n",
    "print(box_office_billion)\n",
    "box_office_billion.setdefault(\"starwars\")#return value if it present in dict\n",
    "print(box_office_billion.pop(\"avatar\"))#remove avatar and return it's value\n",
    "print(box_office_billion)\n",
    "print(box_office_billion.popitem())#remove and return an arbitrary item\n",
    "print(box_office_billion)\n",
    "print(box_office_billion.clear())"
   ]
  },
  {
   "cell_type": "code",
   "execution_count": 38,
   "metadata": {},
   "outputs": [
    {
     "name": "stdout",
     "output_type": "stream",
     "text": [
      "{'Asia': 'India', 'Europe': 'Germany', 'Aferia': 'Sudan'}\n"
     ]
    }
   ],
   "source": [
    "countries={}\n",
    "countries.update({\"Asia\":\"India\"})\n",
    "countries.update({\"Europe\":\"Germany\"})\n",
    "countries.update({\"Aferia\":\"Sudan\"})\n",
    "print(countries)"
   ]
  },
  {
   "cell_type": "code",
   "execution_count": 1,
   "metadata": {},
   "outputs": [
    {
     "name": "stdout",
     "output_type": "stream",
     "text": [
      "Method1:Building Dictionaries\n",
      "Enter the key: something \n",
      "Enter the val: circle\n",
      "Enter the key: MIT\n",
      "Enter the val: dream\n",
      "Dictionary is {'something ': 'circle', 'MIT': 'dream'}\n",
      "Method2:Building Dictionaries\n",
      "Enter the key: somebody\n",
      "Enter the val: You\n",
      "Enter the key: feture\n",
      "Enter the val: aurora\n",
      "Dictionary is {'somebody': 'You', 'feture': 'aurora'}\n",
      "Method3:Building Dictionaries\n",
      "Enter the key: name\n",
      "Enter the val: huangchong\n",
      "Enter the key: country\n",
      "Enter the val: China\n",
      "Dictionary is {'name': 'huangchong', 'country': 'China'}\n"
     ]
    }
   ],
   "source": [
    "print(\"Method1:Building Dictionaries\")\n",
    "build_dict={}\n",
    "for i in range(0,2):\n",
    "    dict_key=input(\"Enter the key: \")\n",
    "    dict_val=input(\"Enter the val: \")\n",
    "    build_dict.update({dict_key:dict_val})\n",
    "print(f\"Dictionary is {build_dict}\")\n",
    "\n",
    "print(\"Method2:Building Dictionaries\")\n",
    "build_dict_1={}\n",
    "for i in range(0,2):\n",
    "    dict_key=input(\"Enter the key: \")\n",
    "    dict_val=input(\"Enter the val: \")\n",
    "    build_dict_1[dict_key]=dict_val\n",
    "print(f\"Dictionary is {build_dict_1}\")\n",
    "\n",
    "print(\"Method3:Building Dictionaries\")\n",
    "build_dict_2={}\n",
    "i=0\n",
    "while i<2:\n",
    "    dict_key=input(\"Enter the key: \")\n",
    "    dict_val=input(\"Enter the val: \")\n",
    "    build_dict_2.update({dict_key:dict_val})\n",
    "    i+=1\n",
    "print(f\"Dictionary is {build_dict_2}\")"
   ]
  },
  {
   "cell_type": "code",
   "execution_count": 2,
   "metadata": {},
   "outputs": [
    {
     "name": "stdout",
     "output_type": "stream",
     "text": [
      "List of Countries\n",
      "India\n",
      "USA\n",
      "Russia\n",
      "Japan\n",
      "Germany\n",
      "List of Currencies in different Countries\n",
      "Rupee\n",
      "Dollar\n",
      "Ruble\n",
      "Yen\n",
      "Ruro\n",
      "'India' has a currency of type 'Rupee'\n",
      "'USA' has a currency of type 'Dollar'\n",
      "'Russia' has a currency of type 'Ruble'\n",
      "'Japan' has a currency of type 'Yen'\n",
      "'Germany' has a currency of type 'Ruro'\n"
     ]
    }
   ],
   "source": [
    "currency={\"India\":\"Rupee\",\"USA\":\"Dollar\",\"Russia\":\"Ruble\",\"Japan\":\"Yen\",\"Germany\":\"Ruro\"}\n",
    "print(\"List of Countries\")\n",
    "for key in currency.keys():\n",
    "    print(key)\n",
    "print(\"List of Currencies in different Countries\")\n",
    "for val in currency.values():\n",
    "    print(val)\n",
    "for key,val in currency.items():\n",
    "    print(f\"'{key}' has a currency of type '{val}'\")\n",
    "    "
   ]
  },
  {
   "cell_type": "code",
   "execution_count": 3,
   "metadata": {},
   "outputs": [
    {
     "name": "stdout",
     "output_type": "stream",
     "text": [
      "Enter the key to check for its represence: Stphen \n",
      "Key 'Stphen ' is not present in the dictionary.\n",
      "Sum of all values in the dictionary is \n",
      "7662\n"
     ]
    }
   ],
   "source": [
    "historical_event={\"apollo11\":1969,\"great_depression\":1929,\"american_revolution\":1775,\"berlin_wall\":1989}\n",
    "key=input(\"Enter the key to check for its represence: \")\n",
    "if key in historical_event.keys():\n",
    "    print(f\"Key '{key}' is present in the dictionary.\")\n",
    "else:\n",
    "    print(f\"Key '{key}' is not present in the dictionary.\")\n",
    "print(\"Sum of all values in the dictionary is \")\n",
    "print(f\"{sum(historical_event.values())}\")"
   ]
  },
  {
   "cell_type": "code",
   "execution_count": 4,
   "metadata": {},
   "outputs": [
    {
     "name": "stdout",
     "output_type": "stream",
     "text": [
      "Number of times a novel appears in the list is \n",
      "{'gone_girl': 2, 'davinci_code': 2, 'games_of_thrones': 1}\n"
     ]
    }
   ],
   "source": [
    "novels=[\"gone_girl\",\"davinci_code\",\"games_of_thrones\",\"gone_girl\",\"davinci_code\"]\n",
    "count_items=dict()\n",
    "for book_name in novels:\n",
    "    count_items[book_name]=count_items.get(book_name,0)+1\n",
    "print(\"Number of times a novel appears in the list is \")\n",
    "print(count_items)"
   ]
  },
  {
   "cell_type": "code",
   "execution_count": 6,
   "metadata": {},
   "outputs": [
    {
     "name": "stdout",
     "output_type": "stream",
     "text": [
      "Enter a sentence: This world is so big,and I will explore it oneday.Wait and see.\n",
      "The number of times each word appears in the sentence is \n",
      "{'This': 1, 'world': 1, 'is': 1, 'so': 1, 'big,and': 1, 'I': 1, 'will': 1, 'explore': 1, 'it': 1, 'oneday.Wait': 1, 'and': 1, 'see.': 1}\n"
     ]
    }
   ],
   "source": [
    "count_words=dict()\n",
    "sentence=input(\"Enter a sentence: \")\n",
    "words=sentence.split()\n",
    "for each_word in words:\n",
    "    count_words[each_word]=count_words.get(each_word,0)+1\n",
    "print(\"The number of times each word appears in the sentence is \")\n",
    "print(count_words)"
   ]
  },
  {
   "cell_type": "code",
   "execution_count": 8,
   "metadata": {},
   "outputs": [
    {
     "name": "stdout",
     "output_type": "stream",
     "text": [
      "Enter a word: character\n",
      "a 2\n",
      "a 2\n",
      "c 2\n",
      "c 2\n",
      "e 1\n",
      "e 1\n",
      "h 1\n",
      "h 1\n",
      "r 2\n",
      "r 2\n",
      "t 1\n",
      "t 1\n"
     ]
    }
   ],
   "source": [
    "word=input(\"Enter a word: \")\n",
    "character_count_dict=dict()\n",
    "for each_character in word:\n",
    "    character_count_dict[each_character]=character_count_dict.get(each_character,0)+1\n",
    "sorted_list_keys=sorted(character_count_dict.keys())\n",
    "for each_key in sorted_list_keys:\n",
    "    print(each_key,character_count_dict[each_key])\n",
    "    print(each_key,character_count_dict.get(each_key))"
   ]
  },
  {
   "cell_type": "code",
   "execution_count": 9,
   "metadata": {},
   "outputs": [
    {
     "name": "stdout",
     "output_type": "stream",
     "text": [
      "Enter a number:9\n",
      "The generated dictionary of the form (i:i*i) is \n",
      "{1: 1, 2: 4, 3: 9, 4: 16, 5: 25, 6: 36, 7: 49, 8: 64, 9: 81}\n"
     ]
    }
   ],
   "source": [
    "number=int(input(\"Enter a number:\"))\n",
    "create_number_dict=dict()\n",
    "for i in range(1,number+1):\n",
    "    create_number_dict[i]=i*i\n",
    "print(\"The generated dictionary of the form (i:i*i) is \")\n",
    "print(create_number_dict)"
   ]
  },
  {
   "cell_type": "code",
   "execution_count": 10,
   "metadata": {},
   "outputs": [
    {
     "name": "stdout",
     "output_type": "stream",
     "text": [
      "Enter a sentence: This is a huge world,and I will explore it oneday.\n",
      "The number of digits,lowercase,uppercase letters are: \n",
      "{'digits': 0, 'lowercase': 37, 'uppercase': 2}\n"
     ]
    }
   ],
   "source": [
    "sentence=input(\"Enter a sentence: \")\n",
    "construct_dict={\"digits\":0,\"lowercase\":0,\"uppercase\":0}\n",
    "for each_character in sentence:\n",
    "    if each_character.isdigit():\n",
    "        construct_dict[\"digits\"]+=1\n",
    "    elif each_character.islower():\n",
    "        construct_dict[\"lowercase\"]+=1\n",
    "    elif each_character.isupper():\n",
    "        construct_dict[\"uppercase\"]+=1\n",
    "print(\"The number of digits,lowercase,uppercase letters are: \")\n",
    "print(construct_dict)"
   ]
  },
  {
   "cell_type": "code",
   "execution_count": 4,
   "metadata": {},
   "outputs": [
    {
     "name": "stdout",
     "output_type": "stream",
     "text": [
      "Enter the students number: 1\n",
      "Enter the name of studentZhangsan\n",
      "Enter the student's registraion number: 78A90B\n",
      "Enter the student total marksShanghai_12\n",
      "Enter the student's name which you want to search: Zhangsan\n",
      "Student you are searching is in the student_name\n",
      "Student's registration number is 78A90B\n",
      "Student's total_marks is Shanghai_12\n"
     ]
    }
   ],
   "source": [
    "number_of_students=int(input(\"Enter the students number: \"))\n",
    "student_name={}\n",
    "for i in range(0,number_of_students):\n",
    "    name=input(\"Enter the name of student\")\n",
    "    registration_number=input(\"Enter the student's registraion number: \")\n",
    "    total_marks=input(\"Enter the student total marks\")\n",
    "    student_name[name]=[registration_number,total_marks]\n",
    "student_search=input(\"Enter the student's name which you want to search: \")\n",
    "if student_search in student_name.keys():\n",
    "    print(\"Student you are searching is in the student_name\")\n",
    "    print(f\"Student's registration number is {student_name[name][0]}\")\n",
    "    print(f\"Student's total_marks is {student_name[name][1]}\")\n",
    "else:\n",
    "    print(\"Student you are searching is not in the student_name\")"
   ]
  },
  {
   "cell_type": "code",
   "execution_count": 11,
   "metadata": {},
   "outputs": [
    {
     "name": "stdout",
     "output_type": "stream",
     "text": [
      "Student name jasmine\n",
      "Registration number 1A78B\n",
      "100.0\n"
     ]
    }
   ],
   "source": [
    "student_details={\"name\":\"jasmine\",\"registration_number\":\"1A78B\",\"student_marks\":{\"python\":100,\"C\":100,\"C++\":100}}\n",
    "print(f\"Student name {student_details['name']}\")\n",
    "print(f\"Registration number {student_details['registration_number']}\")\n",
    "print(f\"{sum(student_details['student_marks'].values())/len(student_details['student_marks'])}\")"
   ]
  },
  {
   "cell_type": "code",
   "execution_count": 12,
   "metadata": {},
   "outputs": [
    {
     "name": "stdout",
     "output_type": "stream",
     "text": [
      "{'r': 'raccoon', 'c': 'cougar', 'm': 'moose'}\n",
      "{'r': 'raccoon', 'm': 'moose'}\n"
     ]
    }
   ],
   "source": [
    "animals={\"r\":\"raccoon\",\"c\":\"cougar\",\"m\":\"moose\"}\n",
    "print(animals)\n",
    "del animals[\"c\"]\n",
    "print(animals)"
   ]
  },
  {
   "cell_type": "code",
   "execution_count": null,
   "metadata": {},
   "outputs": [],
   "source": []
  }
 ],
 "metadata": {
  "kernelspec": {
   "display_name": "Python 3",
   "language": "python",
   "name": "python3"
  },
  "language_info": {
   "codemirror_mode": {
    "name": "ipython",
    "version": 3
   },
   "file_extension": ".py",
   "mimetype": "text/x-python",
   "name": "python",
   "nbconvert_exporter": "python",
   "pygments_lexer": "ipython3",
   "version": "3.7.3"
  }
 },
 "nbformat": 4,
 "nbformat_minor": 2
}
