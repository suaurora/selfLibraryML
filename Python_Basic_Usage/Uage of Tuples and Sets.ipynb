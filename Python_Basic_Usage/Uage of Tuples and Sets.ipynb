{
 "cells": [
  {
   "cell_type": "markdown",
   "metadata": {},
   "source": [
    "# Uage of Tuples and Sets"
   ]
  },
  {
   "cell_type": "code",
   "execution_count": 4,
   "metadata": {},
   "outputs": [
    {
     "name": "stdout",
     "output_type": "stream",
     "text": [
      "('cern', 'timbernerslee', 'www', 1980)\n",
      "<class 'tuple'>\n",
      "<class 'tuple'>\n",
      "('farrari', 'redbull', 'mercedes', 'williams', 'renault')\n"
     ]
    }
   ],
   "source": [
    "internet=(\"cern\",\"timbernerslee\",\"www\",1980)\n",
    "print(internet)\n",
    "print(type(internet))\n",
    "f1=\"farrari\",\"redbull\",\"mercedes\",\"williams\",\"renault\"\n",
    "print(type(f1))\n",
    "print(f1)"
   ]
  },
  {
   "cell_type": "code",
   "execution_count": 8,
   "metadata": {},
   "outputs": [
    {
     "name": "stdout",
     "output_type": "stream",
     "text": [
      "()\n",
      "<class 'tuple'>\n",
      "(1988, 2005, 2016, ('f15', 'f22a', 'f35a'))\n",
      "<class 'tuple'>\n",
      "('hello',)\n"
     ]
    }
   ],
   "source": [
    "empty_tuple=()\n",
    "print(empty_tuple)\n",
    "print(type(empty_tuple))\n",
    "air_force=(\"f15\",\"f22a\",\"f35a\")\n",
    "fighter_jets=(1988,2005,2016,air_force)\n",
    "print(fighter_jets)\n",
    "print(type(fighter_jets))\n",
    "singleton=\"hello\",\n",
    "print(singleton)"
   ]
  },
  {
   "cell_type": "code",
   "execution_count": 10,
   "metadata": {},
   "outputs": [
    {
     "name": "stdout",
     "output_type": "stream",
     "text": [
      "(2, 0, 1, 8, 2, 0, 1, 9)\n",
      "(2, 0, 1, 8, 2, 0, 1, 8, 2, 0, 1, 8)\n",
      "False\n"
     ]
    }
   ],
   "source": [
    "tuple_1=(2,0,1,8)\n",
    "tuple_2=(2,0,1,9)\n",
    "print(tuple_1+tuple_2)\n",
    "print(tuple_1*3)\n",
    "print(tuple_1==tuple_2)"
   ]
  },
  {
   "cell_type": "code",
   "execution_count": 12,
   "metadata": {},
   "outputs": [
    {
     "name": "stdout",
     "output_type": "stream",
     "text": [
      "True\n",
      "False\n"
     ]
    }
   ],
   "source": [
    "tuple_items=(1,3,6,9)\n",
    "print(1 in tuple_items)\n",
    "print(25 in tuple_items)"
   ]
  },
  {
   "cell_type": "code",
   "execution_count": 14,
   "metadata": {},
   "outputs": [
    {
     "name": "stdout",
     "output_type": "stream",
     "text": [
      "True\n",
      "True\n"
     ]
    }
   ],
   "source": [
    "tuple_3=(9,8,7)\n",
    "tuple_4=(9,7,8)\n",
    "print(tuple_3>tuple_4)\n",
    "print(tuple_3!=tuple_4)"
   ]
  },
  {
   "cell_type": "code",
   "execution_count": 16,
   "metadata": {},
   "outputs": [
    {
     "name": "stdout",
     "output_type": "stream",
     "text": [
      "('v', 'i', 'k', 'i', 'n', 'g', 's')\n",
      "('g', 'o', 'd', 'o', 'f', 's', 'k', 'y')\n"
     ]
    }
   ],
   "source": [
    "norse=\"vikings\"\n",
    "string_to_tuple=tuple(norse)\n",
    "print(string_to_tuple)\n",
    "zeus=[\"g\",\"o\",\"d\",\"o\",\"f\",\"s\",\"k\",\"y\"]\n",
    "list_to_tuple=tuple(zeus)\n",
    "print(list_to_tuple)"
   ]
  },
  {
   "cell_type": "markdown",
   "metadata": {},
   "source": [
    "```python\n",
    "string_to_tuple+\"scandinavia\"\n",
    "#This will raise an Error\n",
    "list_to_tuple+[\"g\",\"r\",\"e\",\"e\",\"k\"]\n",
    "#This also raise an Error\n",
    "```"
   ]
  },
  {
   "cell_type": "code",
   "execution_count": 18,
   "metadata": {},
   "outputs": [
    {
     "name": "stdout",
     "output_type": "stream",
     "text": [
      "('v', 'i', 'k', 'i', 'n', 'g', 's', 's', 'c', 'a', 'n', 'd', 'i', 'n', 'a', 'v', 'i', 'a')\n",
      "('g', 'o', 'd', 'o', 'f', 's', 'k', 'y', 'g', 'r', 'e', 'e', 'k')\n",
      "(('a', 'b', 'c'), (1, 2, 3))\n",
      "('w', 'o', 'l', 'v', 'e', 'r', 'i', 'n', 'e')\n"
     ]
    }
   ],
   "source": [
    "print(string_to_tuple+tuple(\"scandinavia\"))\n",
    "print(list_to_tuple+tuple([\"g\",\"r\",\"e\",\"e\",\"k\"]))\n",
    "letters=(\"a\",\"b\",\"c\")\n",
    "numbers=(1,2,3)\n",
    "nested_tuple=(letters,numbers)\n",
    "print(nested_tuple)\n",
    "print(tuple(\"wolverine\"))"
   ]
  },
  {
   "cell_type": "code",
   "execution_count": 22,
   "metadata": {},
   "outputs": [
    {
     "name": "stdout",
     "output_type": "stream",
     "text": [
      "('jerusalem', 'kashivishwanath', 'harmandirsahib', 'bethlehem', 'mahabodhi')\n",
      "jerusalem\n",
      "jerusalem\n",
      "kashivishwanath\n",
      "harmandirsahib\n",
      "bethlehem\n",
      "mahabodhi\n",
      "bethlehem\n"
     ]
    },
    {
     "ename": "IndexError",
     "evalue": "tuple index out of range",
     "output_type": "error",
     "traceback": [
      "\u001b[0;31m---------------------------------------------------------------------------\u001b[0m",
      "\u001b[0;31mIndexError\u001b[0m                                Traceback (most recent call last)",
      "\u001b[0;32m<ipython-input-22-07ddebb09f1d>\u001b[0m in \u001b[0;36m<module>\u001b[0;34m\u001b[0m\n\u001b[1;32m      5\u001b[0m     \u001b[0mprint\u001b[0m\u001b[0;34m(\u001b[0m\u001b[0mholy_places\u001b[0m\u001b[0;34m[\u001b[0m\u001b[0mi\u001b[0m\u001b[0;34m]\u001b[0m\u001b[0;34m)\u001b[0m\u001b[0;34m\u001b[0m\u001b[0;34m\u001b[0m\u001b[0m\n\u001b[1;32m      6\u001b[0m \u001b[0mprint\u001b[0m\u001b[0;34m(\u001b[0m\u001b[0mholy_places\u001b[0m\u001b[0;34m[\u001b[0m\u001b[0;34m-\u001b[0m\u001b[0;36m2\u001b[0m\u001b[0;34m]\u001b[0m\u001b[0;34m)\u001b[0m\u001b[0;34m\u001b[0m\u001b[0;34m\u001b[0m\u001b[0m\n\u001b[0;32m----> 7\u001b[0;31m \u001b[0mprint\u001b[0m\u001b[0;34m(\u001b[0m\u001b[0mholy_places\u001b[0m\u001b[0;34m[\u001b[0m\u001b[0;36m6\u001b[0m\u001b[0;34m]\u001b[0m\u001b[0;34m)\u001b[0m\u001b[0;34m\u001b[0m\u001b[0;34m\u001b[0m\u001b[0m\n\u001b[0m",
      "\u001b[0;31mIndexError\u001b[0m: tuple index out of range"
     ]
    }
   ],
   "source": [
    "holy_places=(\"jerusalem\",\"kashivishwanath\",\"harmandirsahib\",\"bethlehem\",\"mahabodhi\")\n",
    "print(holy_places)\n",
    "print(holy_places[0])\n",
    "for i in range(len(holy_places)):\n",
    "    print(holy_places[i])\n",
    "print(holy_places[-2])\n",
    "print(holy_places[6])"
   ]
  },
  {
   "cell_type": "code",
   "execution_count": 23,
   "metadata": {},
   "outputs": [
    {
     "name": "stdout",
     "output_type": "stream",
     "text": [
      "('v', 'i', 'b', 'g', 'y', 'o', 'r')\n",
      "('i', 'b', 'g')\n",
      "('v', 'i', 'b', 'g', 'y')\n",
      "('g', 'y', 'o', 'r')\n",
      "('v', 'i', 'b', 'g', 'y', 'o', 'r')\n",
      "('v', 'i', 'b', 'g', 'y', 'o', 'r')\n",
      "('v', 'b', 'y', 'r')\n",
      "('r', 'o', 'y', 'g', 'b', 'i', 'v')\n",
      "('i', 'g')\n",
      "('b', 'g', 'y')\n"
     ]
    }
   ],
   "source": [
    "colors=(\"v\",\"i\",\"b\",\"g\",\"y\",\"o\",\"r\")\n",
    "print(colors)\n",
    "print(colors[1:4])\n",
    "print(colors[:5])\n",
    "print(colors[3:])\n",
    "print(colors[:])\n",
    "print(colors[::])\n",
    "print(colors[::2])\n",
    "print(colors[::-1])\n",
    "print(colors[1:5:2])\n",
    "print(colors[-5:-2])"
   ]
  },
  {
   "cell_type": "code",
   "execution_count": 24,
   "metadata": {},
   "outputs": [
    {
     "name": "stdout",
     "output_type": "stream",
     "text": [
      "4\n",
      "7949\n",
      "[1981, 1985, 1987, 1996]\n"
     ]
    }
   ],
   "source": [
    "year=(1987,1985,1981,1996)\n",
    "print(len(year))\n",
    "print(sum(year))\n",
    "sorted_year=sorted(year)\n",
    "print(sorted_year)"
   ]
  },
  {
   "cell_type": "markdown",
   "metadata": {},
   "source": [
    "## relation between tuple and list\n",
    "\n",
    "1. Tuples are immutable and items can hetergeneous\n",
    "2. Items cannot be added and removed or replaced in a tuple\n",
    "3. If an Item within a tuple is mutable,then you can change it"
   ]
  },
  {
   "cell_type": "code",
   "execution_count": 25,
   "metadata": {},
   "outputs": [
    {
     "name": "stdout",
     "output_type": "stream",
     "text": [
      "['great_barrier', 'ningaloo_coast', 'amazon_reef', 'pickles_reef']\n"
     ]
    },
    {
     "ename": "TypeError",
     "evalue": "'tuple' object does not support item assignment",
     "output_type": "error",
     "traceback": [
      "\u001b[0;31m---------------------------------------------------------------------------\u001b[0m",
      "\u001b[0;31mTypeError\u001b[0m                                 Traceback (most recent call last)",
      "\u001b[0;32m<ipython-input-25-cf0f64a81cf0>\u001b[0m in \u001b[0;36m<module>\u001b[0;34m\u001b[0m\n\u001b[1;32m      2\u001b[0m \u001b[0mList_coral_reef\u001b[0m\u001b[0;34m=\u001b[0m\u001b[0mlist\u001b[0m\u001b[0;34m(\u001b[0m\u001b[0mcoral_reef\u001b[0m\u001b[0;34m)\u001b[0m\u001b[0;34m\u001b[0m\u001b[0;34m\u001b[0m\u001b[0m\n\u001b[1;32m      3\u001b[0m \u001b[0mprint\u001b[0m\u001b[0;34m(\u001b[0m\u001b[0mList_coral_reef\u001b[0m\u001b[0;34m)\u001b[0m\u001b[0;34m\u001b[0m\u001b[0;34m\u001b[0m\u001b[0m\n\u001b[0;32m----> 4\u001b[0;31m \u001b[0mcoral_reef\u001b[0m\u001b[0;34m[\u001b[0m\u001b[0;36m0\u001b[0m\u001b[0;34m]\u001b[0m\u001b[0;34m=\u001b[0m\u001b[0;34m\"great_barriers\"\u001b[0m\u001b[0;34m\u001b[0m\u001b[0;34m\u001b[0m\u001b[0m\n\u001b[0m",
      "\u001b[0;31mTypeError\u001b[0m: 'tuple' object does not support item assignment"
     ]
    }
   ],
   "source": [
    "coral_reef=(\"great_barrier\",\"ningaloo_coast\",\"amazon_reef\",\"pickles_reef\")\n",
    "List_coral_reef=list(coral_reef)\n",
    "print(List_coral_reef)\n",
    "coral_reef[0]=\"great_barriers\"\n"
   ]
  },
  {
   "cell_type": "code",
   "execution_count": 27,
   "metadata": {},
   "outputs": [
    {
     "name": "stdout",
     "output_type": "stream",
     "text": [
      "['prosche', 'audi', 'bmw']\n",
      "('ferrari', 'volvo', 'renault', ['prosche', 'audi', 'bmw'])\n",
      "['prosche', 'audi', 'bmw', 'mercedes']\n",
      "('ferrari', 'volvo', 'renault', ['prosche', 'audi', 'bmw', 'mercedes'])\n"
     ]
    }
   ],
   "source": [
    "german_cars=[\"prosche\",\"audi\",\"bmw\"]\n",
    "print(german_cars)\n",
    "european_cars=(\"ferrari\",\"volvo\",\"renault\",german_cars)\n",
    "print(european_cars)\n",
    "european_cars[3].append(\"mercedes\")\n",
    "print(german_cars)\n",
    "print(european_cars)"
   ]
  },
  {
   "cell_type": "code",
   "execution_count": 33,
   "metadata": {},
   "outputs": [
    {
     "name": "stdout",
     "output_type": "stream",
     "text": [
      "(('white_shark', 520), ('beluge', 1571), ('greenlan_shark', 1400))\n",
      "{'white_shark': 520, 'beluge': 1571, 'greenlan_shark': 1400}\n",
      "dict_items([('google', 1996), ('Apple', 1976), ('Sony', 1946), ('ebay', 1995), ('IBM', 1911)])\n",
      "google was found in year 1996\n",
      "Apple was found in year 1976\n",
      "Sony was found in year 1946\n",
      "ebay was found in year 1995\n",
      "IBM was found in year 1911\n"
     ]
    }
   ],
   "source": [
    "fish_weight_kg=((\"white_shark\",520),(\"beluge\",1571),(\"greenlan_shark\",1400))\n",
    "fish_weight_kg_dict=dict(fish_weight_kg)\n",
    "print(fish_weight_kg)\n",
    "print(fish_weight_kg_dict)\n",
    "founding_year={\"google\":1996,\"Apple\":1976,\"Sony\":1946,\"ebay\":1995,\"IBM\":1911}\n",
    "print(founding_year.items())\n",
    "for company,year in founding_year.items():\n",
    "    print(f\"{company} was found in year {year}\")"
   ]
  },
  {
   "cell_type": "code",
   "execution_count": 35,
   "metadata": {},
   "outputs": [
    {
     "data": {
      "text/plain": [
       "['__add__',\n",
       " '__class__',\n",
       " '__contains__',\n",
       " '__delattr__',\n",
       " '__dir__',\n",
       " '__doc__',\n",
       " '__eq__',\n",
       " '__format__',\n",
       " '__ge__',\n",
       " '__getattribute__',\n",
       " '__getitem__',\n",
       " '__getnewargs__',\n",
       " '__gt__',\n",
       " '__hash__',\n",
       " '__init__',\n",
       " '__init_subclass__',\n",
       " '__iter__',\n",
       " '__le__',\n",
       " '__len__',\n",
       " '__lt__',\n",
       " '__mul__',\n",
       " '__ne__',\n",
       " '__new__',\n",
       " '__reduce__',\n",
       " '__reduce_ex__',\n",
       " '__repr__',\n",
       " '__rmul__',\n",
       " '__setattr__',\n",
       " '__sizeof__',\n",
       " '__str__',\n",
       " '__subclasshook__',\n",
       " 'count',\n",
       " 'index']"
      ]
     },
     "execution_count": 35,
     "metadata": {},
     "output_type": "execute_result"
    }
   ],
   "source": [
    "dir(tuple)"
   ]
  },
  {
   "cell_type": "code",
   "execution_count": 39,
   "metadata": {},
   "outputs": [
    {
     "name": "stdout",
     "output_type": "stream",
     "text": [
      "2\n",
      "3\n",
      "(12345, 67890, 'hello')\n",
      "12345,67890,hello\n"
     ]
    }
   ],
   "source": [
    "channels=(\"ngc\",\"discovery\",\"animal_planet\",\"history\",\"ngc\")\n",
    "print(channels.count(\"ngc\"))\n",
    "print(channels.index(\"history\"))\n",
    "t=12345,67890,\"hello\"\n",
    "print(t)\n",
    "x,y,z=t\n",
    "print(f\"{x},{y},{z}\")"
   ]
  },
  {
   "cell_type": "code",
   "execution_count": 40,
   "metadata": {},
   "outputs": [
    {
     "name": "stdout",
     "output_type": "stream",
     "text": [
      "electric_eel is an ocean animal\n",
      "jelly_fish is an ocean animal\n",
      "shrimp is an ocean animal\n",
      "turtles is an ocean animal\n",
      "blue_whale is an ocean animal\n"
     ]
    }
   ],
   "source": [
    "ocean_animals=(\"electric_eel\",\"jelly_fish\",\"shrimp\",\"turtles\",\"blue_whale\")\n",
    "for each_animal in ocean_animals:\n",
    "    print(f\"{each_animal} is an ocean animal\")"
   ]
  },
  {
   "cell_type": "code",
   "execution_count": 47,
   "metadata": {},
   "outputs": [
    {
     "name": "stdout",
     "output_type": "stream",
     "text": [
      "Enter total number of items: 3\n",
      "Enter a numbrt: 21\n",
      "Enter a numbrt: 12\n",
      "Enter a numbrt: 12\n",
      "Items added to tuple are (21, 12, 12)\n",
      "Enter total number of items: 4\n",
      "Enter a number: 12\n",
      "Enter a number: 124\n",
      "Enter a number: 1245\n",
      "Enter a number: 12455\n",
      "Items added to tuple are (12, 124, 1245, 12455)\n"
     ]
    }
   ],
   "source": [
    "tuple_items=()\n",
    "total_items=int(input(\"Enter total number of items: \"))\n",
    "for i in range(total_items):\n",
    "    user_input=int(input(\"Enter a numbrt: \"))\n",
    "    tuple_items+=(user_input,)\n",
    "print(f\"Items added to tuple are {tuple_items}\")\n",
    "\n",
    "list_items=[]\n",
    "total_items=int(input(\"Enter total number of items: \"))\n",
    "for i in range(total_items):\n",
    "    user_input=int(input(\"Enter a number: \"))\n",
    "    list_items.append(user_input)\n",
    "list_items_tuple=tuple(list_items)\n",
    "print(f\"Items added to tuple are {list_items_tuple}\")"
   ]
  },
  {
   "cell_type": "code",
   "execution_count": 48,
   "metadata": {},
   "outputs": [
    {
     "name": "stdout",
     "output_type": "stream",
     "text": [
      "Enter a value for first number: 19\n",
      "Enter a value for second number: 29\n",
      "After swapping: \n",
      "Value of first number 29\n",
      "Value of second number 19\n"
     ]
    }
   ],
   "source": [
    "a=int(input(\"Enter a value for first number: \"))\n",
    "b=int(input(\"Enter a value for second number: \"))\n",
    "b,a=a,b\n",
    "print(\"After swapping: \")\n",
    "print(f\"Value of first number {a}\")\n",
    "print(f\"Value of second number {b}\")"
   ]
  },
  {
   "cell_type": "code",
   "execution_count": 50,
   "metadata": {},
   "outputs": [
    {
     "name": "stdout",
     "output_type": "stream",
     "text": [
      "Which is your favorite monument?Skating \n",
      "When was it constructed?Everyday\n",
      "My favorite monument is Skating  and it was contructed in Everyday\n",
      "Which is your favorite monument?Coding\n",
      "When was it constructed?Everyday\n",
      "My favorite monument is Coding and it was constructed in Everyday\n"
     ]
    }
   ],
   "source": [
    "def return_multiple_items():\n",
    "    monument=input(\"Which is your favorite monument?\")\n",
    "    year=input(\"When was it constructed?\")\n",
    "    return monument,year\n",
    "mnt,yr=return_multiple_items()\n",
    "print(f\"My favorite monument is {mnt} and it was contructed in {yr}\")\n",
    "result=return_multiple_items()\n",
    "print(f\"My favorite monument is {result[0]} and it was constructed in {result[1]}\")\n",
    "\n"
   ]
  },
  {
   "cell_type": "code",
   "execution_count": 51,
   "metadata": {},
   "outputs": [
    {
     "name": "stdout",
     "output_type": "stream",
     "text": [
      "Enter a sentence: This is a huge world you must explore it\n",
      "After Sorting: \n",
      "The word 'explore' is of 7 characters.\n",
      "The word 'world' is of 5 characters.\n",
      "The word 'must' is of 4 characters.\n",
      "The word 'huge' is of 4 characters.\n",
      "The word 'This' is of 4 characters.\n",
      "The word 'you' is of 3 characters.\n",
      "The word 'it' is of 2 characters.\n",
      "The word 'is' is of 2 characters.\n",
      "The word 'a' is of 1 characters.\n"
     ]
    }
   ],
   "source": [
    "def sort_words(user_input):\n",
    "    list_of_words=user_input.split()\n",
    "    words=list()\n",
    "    for each_word in list_of_words:\n",
    "        words.append((len(each_word),each_word))\n",
    "    words.sort(reverse=True)#by length\n",
    "    print(\"After Sorting: \")\n",
    "    for length,word in words:\n",
    "        print(f\"The word '{word}' is of {length} characters.\")\n",
    "sentence=input(\"Enter a sentence: \")\n",
    "sort_words(sentence)"
   ]
  },
  {
   "cell_type": "code",
   "execution_count": 58,
   "metadata": {},
   "outputs": [
    {
     "name": "stdout",
     "output_type": "stream",
     "text": [
      "Enter names sparated by a space\n",
      "Zhangziyi Wangfeng Zhouyiwei Wangqianyuan\n",
      "After Sorting\n",
      "['Wangfeng', 'Wangqianyuan', 'Zhangziyi', 'Zhouyiwei']\n"
     ]
    }
   ],
   "source": [
    "def read_list_items():\n",
    "    print(\"Enter names sparated by a space\")\n",
    "    list_items=input().split()\n",
    "    return list_items\n",
    "def sort_item_list(items_in_list):\n",
    "    n=len(items_in_list)\n",
    "    for i in range(n):\n",
    "        for j in range(1,n-i):\n",
    "            if items_in_list[j-1]>items_in_list[j]:\n",
    "                (items_in_list[j-1],items_in_list[j])=(items_in_list[j],items_in_list[j-1])\n",
    "    print(\"After Sorting\")\n",
    "    print(items_in_list)\n",
    "all_items=read_list_items()\n",
    "sort_item_list(all_items)"
   ]
  },
  {
   "cell_type": "code",
   "execution_count": 64,
   "metadata": {},
   "outputs": [
    {
     "name": "stdout",
     "output_type": "stream",
     "text": [
      "[(1, 4), (2, 5), (3, 6)]\n",
      "What is you name? It's lancelot\n",
      "What is you quest? It's the holy grail\n",
      "What is you favorite color? It's blue\n"
     ]
    }
   ],
   "source": [
    "x=[1,2,3]\n",
    "y=[4,5,6]\n",
    "zipped=zip(x,y)\n",
    "print(list(zipped))\n",
    "questions=(\"name\",\"quest\",\"favorite color\")\n",
    "answers=(\"lancelot\",\"the holy grail\",\"blue\")\n",
    "for q,a in zip(questions,answers):\n",
    "    print(f\"What is you {q}? It's {a}\")"
   ]
  },
  {
   "cell_type": "code",
   "execution_count": 66,
   "metadata": {},
   "outputs": [
    {
     "name": "stdout",
     "output_type": "stream",
     "text": [
      "{'Orange', 'Apple', 'Banana', 'Pear'}\n",
      "True\n",
      "False\n",
      "{'a', 'd', 'c', 'r', 'b'}\n",
      "{'l', 'a', 'm', 'c', 'z'}\n",
      "{'d', 'r', 'b'}\n",
      "{'l', 'a', 'm', 'd', 'c', 'z', 'r', 'b'}\n",
      "{'a', 'c'}\n",
      "{'m', 'l', 'd', 'z', 'r', 'b'}\n",
      "4\n",
      "['Apple', 'Banana', 'Orange', 'Pear']\n"
     ]
    }
   ],
   "source": [
    "basket={\"Apple\",\"Orange\",\"Apple\",\"Pear\",\"Orange\",\"Banana\"}\n",
    "print(basket)\n",
    "print('Orange' in basket)\n",
    "print(\"Crabgrass\" in basket)\n",
    "a=set(\"abracadabra\")\n",
    "b=set(\"alacazam\")\n",
    "print(a)\n",
    "print(b)\n",
    "print(a-b)\n",
    "print(a|b)\n",
    "print(a&b)\n",
    "print(a^b)\n",
    "print(len(basket))\n",
    "print(sorted(basket))"
   ]
  },
  {
   "cell_type": "code",
   "execution_count": 67,
   "metadata": {},
   "outputs": [
    {
     "data": {
      "text/plain": [
       "['__and__',\n",
       " '__class__',\n",
       " '__contains__',\n",
       " '__delattr__',\n",
       " '__dir__',\n",
       " '__doc__',\n",
       " '__eq__',\n",
       " '__format__',\n",
       " '__ge__',\n",
       " '__getattribute__',\n",
       " '__gt__',\n",
       " '__hash__',\n",
       " '__iand__',\n",
       " '__init__',\n",
       " '__init_subclass__',\n",
       " '__ior__',\n",
       " '__isub__',\n",
       " '__iter__',\n",
       " '__ixor__',\n",
       " '__le__',\n",
       " '__len__',\n",
       " '__lt__',\n",
       " '__ne__',\n",
       " '__new__',\n",
       " '__or__',\n",
       " '__rand__',\n",
       " '__reduce__',\n",
       " '__reduce_ex__',\n",
       " '__repr__',\n",
       " '__ror__',\n",
       " '__rsub__',\n",
       " '__rxor__',\n",
       " '__setattr__',\n",
       " '__sizeof__',\n",
       " '__str__',\n",
       " '__sub__',\n",
       " '__subclasshook__',\n",
       " '__xor__',\n",
       " 'add',\n",
       " 'clear',\n",
       " 'copy',\n",
       " 'difference',\n",
       " 'difference_update',\n",
       " 'discard',\n",
       " 'intersection',\n",
       " 'intersection_update',\n",
       " 'isdisjoint',\n",
       " 'issubset',\n",
       " 'issuperset',\n",
       " 'pop',\n",
       " 'remove',\n",
       " 'symmetric_difference',\n",
       " 'symmetric_difference_update',\n",
       " 'union',\n",
       " 'update']"
      ]
     },
     "execution_count": 67,
     "metadata": {},
     "output_type": "execute_result"
    }
   ],
   "source": [
    "dir(set)"
   ]
  },
  {
   "cell_type": "code",
   "execution_count": 70,
   "metadata": {},
   "outputs": [
    {
     "name": "stdout",
     "output_type": "stream",
     "text": [
      "{'goldcrest', 'roses', 'lavender', 'sunflowers', 'tulips'}\n",
      "{'daisies', 'tulips', 'lilies', 'roses'}\n",
      "{'roses', 'daisies', 'orchids', 'lilies', 'tulips'}\n",
      "{'orchids', 'daisies', 'lilies'}\n",
      "{'tulips', 'roses'}\n",
      "False\n",
      "False\n",
      "False\n",
      "{'orchids', 'goldcrest', 'daisies', 'lavender', 'sunflowers', 'lilies'}\n",
      "{'goldcrest', 'roses', 'lavender', 'daisies', 'orchids', 'sunflowers', 'lilies', 'tulips'}\n",
      "None\n",
      "{'goldcrest', 'roses', 'lavender', 'daisies', 'orchids', 'sunflowers', 'lilies', 'tulips'}\n",
      "None\n",
      "{'goldcrest', 'lavender', 'daisies', 'orchids', 'sunflowers', 'lilies', 'tulips'}\n",
      "goldcrest\n",
      "None\n"
     ]
    }
   ],
   "source": [
    "european_flowers={\"sunflowers\",\"roses\",\"lavender\",\"tulips\",\"goldcrest\"}\n",
    "american_flowers={\"roses\",\"tulips\",\"lilies\",\"daisies\"}\n",
    "print(european_flowers)\n",
    "print(american_flowers)\n",
    "american_flowers.add(\"orchids\")\n",
    "print(american_flowers)\n",
    "print(american_flowers.difference(european_flowers))\n",
    "print(american_flowers.intersection(european_flowers))\n",
    "print(american_flowers.isdisjoint(european_flowers))\n",
    "#American_flowers items have no common with european_flowers items\n",
    "print(american_flowers.issuperset(european_flowers))\n",
    "print(american_flowers.issubset(european_flowers))\n",
    "print(american_flowers.symmetric_difference(european_flowers))\n",
    "#Return a new set which items are from either american_flowers or european_flowers,but not both\n",
    "print(american_flowers.union(european_flowers))\n",
    "print(american_flowers.update(european_flowers))\n",
    "#Adding european_flowers to american_flowers\n",
    "print(american_flowers)\n",
    "print(american_flowers.discard(\"roses\"))\n",
    "#Remove an \"roses\" from american if it represent\n",
    "print(american_flowers)\n",
    "print(european_flowers.pop())\n",
    "print(american_flowers.clear())"
   ]
  },
  {
   "cell_type": "code",
   "execution_count": 72,
   "metadata": {},
   "outputs": [
    {
     "name": "stdout",
     "output_type": "stream",
     "text": [
      "ins_airavat is a Warship\n",
      "u.s.s._arizona is a Warship\n",
      "hms_beagle is a Warship\n",
      "ins_hetz is a Warship\n"
     ]
    }
   ],
   "source": [
    "warships={\"u.s.s._arizona\",\"hms_beagle\",\"ins_airavat\",\"ins_hetz\"}\n",
    "for each_ship in warships:\n",
    "    print(f\"{each_ship} is a Warship\")"
   ]
  },
  {
   "cell_type": "code",
   "execution_count": 74,
   "metadata": {},
   "outputs": [
    {
     "name": "stdout",
     "output_type": "stream",
     "text": [
      "Unique characters in the word egg are ['g', 'e']\n",
      "Unique characters in the word immune are ['n', 'm', 'e', 'i', 'u']\n",
      "Unique characters in the word feed are ['d', 'f', 'e']\n",
      "Unique characters in the word vacuum are ['v', 'a', 'm', 'u', 'c']\n",
      "Unique characters in the word goddessship are ['o', 'h', 'e', 'i', 'p', 'd', 's', 'g']\n"
     ]
    }
   ],
   "source": [
    "def find_unique(*all_words):\n",
    "    for each_word in all_words:\n",
    "        unique_character_list=list(set(each_word))\n",
    "        print(f\"Unique characters in the word {each_word} are {unique_character_list}\")\n",
    "find_unique(\"egg\",\"immune\",\"feed\",\"vacuum\",\"goddessship\")"
   ]
  },
  {
   "cell_type": "code",
   "execution_count": 75,
   "metadata": {},
   "outputs": [
    {
     "name": "stdout",
     "output_type": "stream",
     "text": [
      "Enter a sentence :This is a huge world and i will explore it oneday\n",
      "The unique and sorted words are ['This', 'a', 'and', 'explore', 'huge', 'i', 'is', 'it', 'oneday', 'will', 'world']\n"
     ]
    }
   ],
   "source": [
    "def unique_words(user_input):\n",
    "    words=user_input.split()\n",
    "    print(f\"The unique and sorted words are {sorted(set(words))}\")\n",
    "sentence=input(\"Enter a sentence :\")\n",
    "unique_words(sentence)"
   ]
  },
  {
   "cell_type": "markdown",
   "metadata": {},
   "source": [
    "## frozenset \n",
    "frozenset is immutable"
   ]
  },
  {
   "cell_type": "code",
   "execution_count": 76,
   "metadata": {},
   "outputs": [
    {
     "data": {
      "text/plain": [
       "['__and__',\n",
       " '__class__',\n",
       " '__contains__',\n",
       " '__delattr__',\n",
       " '__dir__',\n",
       " '__doc__',\n",
       " '__eq__',\n",
       " '__format__',\n",
       " '__ge__',\n",
       " '__getattribute__',\n",
       " '__gt__',\n",
       " '__hash__',\n",
       " '__init__',\n",
       " '__init_subclass__',\n",
       " '__iter__',\n",
       " '__le__',\n",
       " '__len__',\n",
       " '__lt__',\n",
       " '__ne__',\n",
       " '__new__',\n",
       " '__or__',\n",
       " '__rand__',\n",
       " '__reduce__',\n",
       " '__reduce_ex__',\n",
       " '__repr__',\n",
       " '__ror__',\n",
       " '__rsub__',\n",
       " '__rxor__',\n",
       " '__setattr__',\n",
       " '__sizeof__',\n",
       " '__str__',\n",
       " '__sub__',\n",
       " '__subclasshook__',\n",
       " '__xor__',\n",
       " 'copy',\n",
       " 'difference',\n",
       " 'intersection',\n",
       " 'isdisjoint',\n",
       " 'issubset',\n",
       " 'issuperset',\n",
       " 'symmetric_difference',\n",
       " 'union']"
      ]
     },
     "execution_count": 76,
     "metadata": {},
     "output_type": "execute_result"
    }
   ],
   "source": [
    "dir(frozenset)"
   ]
  },
  {
   "cell_type": "code",
   "execution_count": 78,
   "metadata": {},
   "outputs": [
    {
     "name": "stdout",
     "output_type": "stream",
     "text": [
      "frozenset({'d', 'g', 'o'})\n",
      "{'cattle', frozenset({'d', 'g', 'o'}), 'horse'}\n",
      "frozenset({'french', 'english', 'spanish'})\n",
      "{'engilis': 60, 'french': 29, 'spanish': 21, frozenset({'german'}): 6}\n"
     ]
    }
   ],
   "source": [
    "fs=frozenset([\"g\",\"o\",\"o\",\"d\"])\n",
    "print(fs)\n",
    "animals=set([fs,\"cattle\",\"horse\"])\n",
    "print(animals)\n",
    "official_language_world={\"english\":60,\"french\":29,\"spanish\":21}\n",
    "print(frozenset(official_language_world))\n",
    "frs=frozenset([\"german\"])\n",
    "official_language_world={\"engilis\":60,\"french\":29,\"spanish\":21,frs:6}\n",
    "print(official_language_world)"
   ]
  },
  {
   "cell_type": "code",
   "execution_count": 79,
   "metadata": {},
   "outputs": [
    {
     "ename": "TypeError",
     "evalue": "'frozenset' object does not support item assignment",
     "output_type": "error",
     "traceback": [
      "\u001b[0;31m---------------------------------------------------------------------------\u001b[0m",
      "\u001b[0;31mTypeError\u001b[0m                                 Traceback (most recent call last)",
      "\u001b[0;32m<ipython-input-79-27782c5db06f>\u001b[0m in \u001b[0;36m<module>\u001b[0;34m\u001b[0m\n\u001b[0;32m----> 1\u001b[0;31m \u001b[0mfs\u001b[0m\u001b[0;34m[\u001b[0m\u001b[0;36m0\u001b[0m\u001b[0;34m]\u001b[0m\u001b[0;34m=\u001b[0m\u001b[0;34m'b'\u001b[0m\u001b[0;34m\u001b[0m\u001b[0;34m\u001b[0m\u001b[0m\n\u001b[0m",
      "\u001b[0;31mTypeError\u001b[0m: 'frozenset' object does not support item assignment"
     ]
    }
   ],
   "source": [
    "fs[0]='b'"
   ]
  }
 ],
 "metadata": {
  "kernelspec": {
   "display_name": "Python 3",
   "language": "python",
   "name": "python3"
  },
  "language_info": {
   "codemirror_mode": {
    "name": "ipython",
    "version": 3
   },
   "file_extension": ".py",
   "mimetype": "text/x-python",
   "name": "python",
   "nbconvert_exporter": "python",
   "pygments_lexer": "ipython3",
   "version": "3.7.3"
  }
 },
 "nbformat": 4,
 "nbformat_minor": 2
}
