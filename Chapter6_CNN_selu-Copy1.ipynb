{
 "cells": [
  {
   "cell_type": "code",
   "execution_count": 1,
   "metadata": {},
   "outputs": [
    {
     "name": "stdout",
     "output_type": "stream",
     "text": [
      "(5000, 28, 28) (5000,)\n",
      "(55000, 28, 28) (55000,)\n",
      "(10000, 28, 28) (10000,)\n"
     ]
    }
   ],
   "source": [
    "import matplotlib\n",
    "import matplotlib.pyplot as plt\n",
    "import numpy as np\n",
    "import sklearn\n",
    "import os\n",
    "import sys\n",
    "import time\n",
    "import tensorflow as tf\n",
    "\n",
    "%matplotlib inline\n",
    "\n",
    "from tensorflow import keras\n",
    "\n",
    "fashion_mnist = keras.datasets.fashion_mnist\n",
    "\n",
    "(X_train_all,y_train_all),(X_test,y_test) = fashion_mnist.load_data()\n",
    "\n",
    "#y_train_all = np.array(onehot(y_train_all))\n",
    "#y_test = np.array(onehot(y_test))\n",
    "\n",
    "\n",
    "\n",
    "X_valid,X_train = X_train_all[:5000],X_train_all[5000:]\n",
    "y_valid,y_train = y_train_all[:5000],y_train_all[5000:]\n",
    "\n",
    "print(X_valid.shape,y_valid.shape)\n",
    "print(X_train.shape,y_train.shape)\n",
    "print(X_test.shape,y_test.shape)"
   ]
  },
  {
   "cell_type": "code",
   "execution_count": 2,
   "metadata": {},
   "outputs": [],
   "source": [
    "from sklearn.preprocessing import StandardScaler\n",
    "\n",
    "scaler = StandardScaler()\n",
    "\n",
    "X_train_scaled = scaler.fit_transform(X_train.astype(np.float32).reshape(-1,1)).reshape(-1,28,28,1)\n",
    "X_valid_scaled = scaler.transform(X_valid.astype(np.float32).reshape(-1,1)).reshape(-1,28,28,1)\n",
    "X_test_scaled = scaler.transform(X_test.astype(np.float32).reshape(-1,1)).reshape(-1,28,28,1)"
   ]
  },
  {
   "cell_type": "code",
   "execution_count": 3,
   "metadata": {},
   "outputs": [],
   "source": [
    "model = keras.models.Sequential()\n",
    "\n",
    "model.add(keras.layers.Conv2D(filters = 32,kernel_size = 3,\n",
    "                              padding = \"same\",\n",
    "                              activation = \"selu\",\n",
    "                              input_shape = (28,28,1)))\n",
    "model.add(keras.layers.SeparableConv2D(filters = 32,kernel_size = 3,\n",
    "                                       padding = \"same\",\n",
    "                                       activation = \"selu\"))\n",
    "model.add(keras.layers.MaxPool2D(pool_size = 2))\n",
    "\n",
    "model.add(keras.layers.SeparableConv2D(filters = 64,kernel_size = 3,\n",
    "                                       padding = \"same\",\n",
    "                                       activation = \"selu\"))\n",
    "model.add(keras.layers.SeparableConv2D(filters = 64,kernel_size = 3,\n",
    "                                       padding = \"same\",\n",
    "                                       activation = \"selu\"))\n",
    "model.add(keras.layers.MaxPool2D(pool_size = 2))\n",
    "\n",
    "model.add(keras.layers.SeparableConv2D(filters = 128,kernel_size = 3,\n",
    "                                       padding = \"same\",\n",
    "                                       activation = \"selu\"))\n",
    "model.add(keras.layers.SeparableConv2D(filters = 128,kernel_size = 3,\n",
    "                                       padding = \"same\",\n",
    "                                       activation = \"selu\"))\n",
    "model.add(keras.layers.MaxPool2D(pool_size = 2))\n",
    "\n",
    "model.add(keras.layers.Flatten())\n",
    "model.add(keras.layers.Dense(128,activation = \"selu\"))\n",
    "model.add(keras.layers.Dense(10,activation=\"softmax\"))\n",
    "\n",
    "model.compile(\n",
    "    loss = \"sparse_categorical_crossentropy\",\n",
    "              optimizer = \"sgd\",\n",
    "              metrics = [\"accuracy\"])"
   ]
  },
  {
   "cell_type": "code",
   "execution_count": 4,
   "metadata": {},
   "outputs": [
    {
     "name": "stdout",
     "output_type": "stream",
     "text": [
      "Model: \"sequential\"\n",
      "_________________________________________________________________\n",
      "Layer (type)                 Output Shape              Param #   \n",
      "=================================================================\n",
      "conv2d (Conv2D)              (None, 28, 28, 32)        320       \n",
      "_________________________________________________________________\n",
      "separable_conv2d (SeparableC (None, 28, 28, 32)        1344      \n",
      "_________________________________________________________________\n",
      "max_pooling2d (MaxPooling2D) (None, 14, 14, 32)        0         \n",
      "_________________________________________________________________\n",
      "separable_conv2d_1 (Separabl (None, 14, 14, 64)        2400      \n",
      "_________________________________________________________________\n",
      "separable_conv2d_2 (Separabl (None, 14, 14, 64)        4736      \n",
      "_________________________________________________________________\n",
      "max_pooling2d_1 (MaxPooling2 (None, 7, 7, 64)          0         \n",
      "_________________________________________________________________\n",
      "separable_conv2d_3 (Separabl (None, 7, 7, 128)         8896      \n",
      "_________________________________________________________________\n",
      "separable_conv2d_4 (Separabl (None, 7, 7, 128)         17664     \n",
      "_________________________________________________________________\n",
      "max_pooling2d_2 (MaxPooling2 (None, 3, 3, 128)         0         \n",
      "_________________________________________________________________\n",
      "flatten (Flatten)            (None, 1152)              0         \n",
      "_________________________________________________________________\n",
      "dense (Dense)                (None, 128)               147584    \n",
      "_________________________________________________________________\n",
      "dense_1 (Dense)              (None, 10)                1290      \n",
      "=================================================================\n",
      "Total params: 184,234\n",
      "Trainable params: 184,234\n",
      "Non-trainable params: 0\n",
      "_________________________________________________________________\n"
     ]
    }
   ],
   "source": [
    "model.summary()"
   ]
  },
  {
   "cell_type": "code",
   "execution_count": 5,
   "metadata": {},
   "outputs": [
    {
     "name": "stdout",
     "output_type": "stream",
     "text": [
      "Train on 55000 samples, validate on 5000 samples\n",
      "Epoch 1/10\n",
      "55000/55000 [==============================] - 159s 3ms/sample - loss: 2.3027 - accuracy: 0.1022 - val_loss: 2.3040 - val_accuracy: 0.1366\n",
      "Epoch 2/10\n",
      "55000/55000 [==============================] - 314s 6ms/sample - loss: 2.2386 - accuracy: 0.1757 - val_loss: 1.2928 - val_accuracy: 0.5860\n",
      "Epoch 3/10\n",
      "55000/55000 [==============================] - 157s 3ms/sample - loss: 0.8323 - accuracy: 0.6915 - val_loss: 0.6705 - val_accuracy: 0.7528\n",
      "Epoch 4/10\n",
      "55000/55000 [==============================] - 157s 3ms/sample - loss: 0.6463 - accuracy: 0.7551 - val_loss: 0.5979 - val_accuracy: 0.7832\n",
      "Epoch 5/10\n",
      "55000/55000 [==============================] - 157s 3ms/sample - loss: 0.5756 - accuracy: 0.7830 - val_loss: 0.5096 - val_accuracy: 0.8128\n",
      "Epoch 6/10\n",
      "55000/55000 [==============================] - 158s 3ms/sample - loss: 0.5222 - accuracy: 0.8035 - val_loss: 0.4928 - val_accuracy: 0.8164\n",
      "Epoch 7/10\n",
      "55000/55000 [==============================] - 158s 3ms/sample - loss: 0.4824 - accuracy: 0.8206 - val_loss: 0.4696 - val_accuracy: 0.8246\n",
      "Epoch 8/10\n",
      "55000/55000 [==============================] - 159s 3ms/sample - loss: 0.4513 - accuracy: 0.8318 - val_loss: 0.4298 - val_accuracy: 0.8406\n",
      "Epoch 9/10\n",
      "55000/55000 [==============================] - 162s 3ms/sample - loss: 0.4262 - accuracy: 0.8411 - val_loss: 0.4277 - val_accuracy: 0.8376\n",
      "Epoch 10/10\n",
      "55000/55000 [==============================] - 161s 3ms/sample - loss: 0.4038 - accuracy: 0.8480 - val_loss: 0.4049 - val_accuracy: 0.8488\n"
     ]
    }
   ],
   "source": [
    "logdir = \"./separable_conv_nn_batch_normalizaion_selu_for_sure\"\n",
    "\n",
    "if not os.path.exists(logdir):\n",
    "    os.mkdir(logdir)\n",
    "\n",
    "output_model_file = os.path.join(logdir,\"deep_neural_network.h5\")\n",
    "\n",
    "callbacks = [\n",
    "    tf.keras.callbacks.TensorBoard(logdir),\n",
    "    tf.keras.callbacks.ModelCheckpoint(output_model_file),\n",
    "    tf.keras.callbacks.EarlyStopping(min_delta=1e-5,patience=8),\n",
    "]\n",
    "\n",
    "history = model.fit(X_train_scaled,y_train,epochs=10,\n",
    "                    validation_data=(X_valid_scaled,y_valid),\n",
    "                    callbacks = callbacks)\n"
   ]
  },
  {
   "cell_type": "code",
   "execution_count": 6,
   "metadata": {},
   "outputs": [
    {
     "data": {
      "image/png": "[encoded data removed]",
      "text/plain": [
       "<Figure size 576x360 with 1 Axes>"
      ]
     },
     "metadata": {
      "needs_background": "light"
     },
     "output_type": "display_data"
    }
   ],
   "source": [
    "import pandas as pd\n",
    "\n",
    "def plot_learning_curve(history):\n",
    "    pd.DataFrame(history.history).plot(figsize=(8,5))\n",
    "    plt.grid(True)\n",
    "    plt.gca().set_ylim(0,1)\n",
    "    plt.show()\n",
    "    \n",
    "plot_learning_curve(history)"
   ]
  },
  {
   "cell_type": "code",
   "execution_count": 7,
   "metadata": {},
   "outputs": [
    {
     "name": "stdout",
     "output_type": "stream",
     "text": [
      "10000/1 - 10s - loss: 0.3027 - accuracy: 0.8305\n"
     ]
    },
    {
     "data": {
      "text/plain": [
       "[0.4486394494056702, 0.8305]"
      ]
     },
     "execution_count": 7,
     "metadata": {},
     "output_type": "execute_result"
    }
   ],
   "source": [
    "model.evaluate(X_test_scaled,y_test,verbose = 2)"
   ]
  },
  {
   "cell_type": "code",
   "execution_count": null,
   "metadata": {},
   "outputs": [],
   "source": []
  }
 ],
 "metadata": {
  "kernelspec": {
   "display_name": "Python 3",
   "language": "python",
   "name": "python3"
  },
  "language_info": {
   "codemirror_mode": {
    "name": "ipython",
    "version": 3
   },
   "file_extension": ".py",
   "mimetype": "text/x-python",
   "name": "python",
   "nbconvert_exporter": "python",
   "pygments_lexer": "ipython3",
   "version": "3.7.3"
  }
 },
 "nbformat": 4,
 "nbformat_minor": 2
}
